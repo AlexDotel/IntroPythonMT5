{
 "cells": [
  {
   "cell_type": "markdown",
   "metadata": {},
   "source": [
    "# Conector MT5 Python"
   ]
  },
  {
   "cell_type": "code",
   "execution_count": 1,
   "metadata": {},
   "outputs": [],
   "source": [
    "import pandas as pd\n",
    "import MetaTrader5 as mt5"
   ]
  },
  {
   "cell_type": "code",
   "execution_count": 2,
   "metadata": {},
   "outputs": [],
   "source": [
    "# Creamos un diccionario con las credenciales.\n",
    "\n",
    "creds = {\n",
    "    'path':'C:\\\\Program Files\\\\Darwinex MetaTrader 5\\\\terminal64.exe',\n",
    "    ## MetaQuotes Account\n",
    "    'login': 84666107,\n",
    "    'pss':'D@D7NvSa',\n",
    "    'server':'MetaQuotes-Demo',\n",
    "\n",
    "    ## Darwinex Account\n",
    "    # 'login' : 4000040131,\n",
    "    # 'pss':'$iC4kd$8%K0',\n",
    "    # 'server':'liveUK-mt5.darwinex.com',\n",
    "    \n",
    "    'timeout':60000,\n",
    "    'portable':False,\n",
    "}"
   ]
  },
  {
   "cell_type": "code",
   "execution_count": 3,
   "metadata": {},
   "outputs": [
    {
     "data": {
      "text/plain": [
       "'C:\\\\Program Files\\\\Darwinex MetaTrader 5\\\\terminal64.exe'"
      ]
     },
     "execution_count": 3,
     "metadata": {},
     "output_type": "execute_result"
    }
   ],
   "source": [
    "creds['path']"
   ]
  },
  {
   "cell_type": "code",
   "execution_count": 4,
   "metadata": {},
   "outputs": [
    {
     "name": "stdout",
     "output_type": "stream",
     "text": [
      "MT5 lanzado correctamente y conectado.\n"
     ]
    }
   ],
   "source": [
    "# Conexion a MT5\n",
    "if mt5.initialize(path=creds['path'], login=creds['login'], password=creds['pss'], server=creds['server'],\n",
    "        timeout=creds['timeout'], portable=creds['portable']):\n",
    "    print('MT5 lanzado correctamente y conectado.')\n",
    "else:\n",
    "    print(f'Ha habido un problema iniciando: {mt5.last_error()}')"
   ]
  },
  {
   "cell_type": "markdown",
   "metadata": {},
   "source": [
    "# Informacion del Terminal"
   ]
  },
  {
   "cell_type": "code",
   "execution_count": 5,
   "metadata": {},
   "outputs": [],
   "source": [
    "# Solicitamos la info de MT5 pero no podemos modificarla desde Python\n",
    "terminal_info_dic = mt5.terminal_info()._asdict()"
   ]
  },
  {
   "cell_type": "code",
   "execution_count": 6,
   "metadata": {},
   "outputs": [],
   "source": [
    "# Lo metemos en un dataframe.\n",
    "terminal_info_df = pd.DataFrame(terminal_info_dic, index=['Set'])"
   ]
  },
  {
   "cell_type": "code",
   "execution_count": 7,
   "metadata": {},
   "outputs": [
    {
     "data": {
      "text/html": [
       "<div>\n",
       "<style scoped>\n",
       "    .dataframe tbody tr th:only-of-type {\n",
       "        vertical-align: middle;\n",
       "    }\n",
       "\n",
       "    .dataframe tbody tr th {\n",
       "        vertical-align: top;\n",
       "    }\n",
       "\n",
       "    .dataframe thead th {\n",
       "        text-align: right;\n",
       "    }\n",
       "</style>\n",
       "<table border=\"1\" class=\"dataframe\">\n",
       "  <thead>\n",
       "    <tr style=\"text-align: right;\">\n",
       "      <th></th>\n",
       "      <th>community_account</th>\n",
       "      <th>community_connection</th>\n",
       "      <th>connected</th>\n",
       "      <th>dlls_allowed</th>\n",
       "      <th>trade_allowed</th>\n",
       "      <th>tradeapi_disabled</th>\n",
       "      <th>email_enabled</th>\n",
       "      <th>ftp_enabled</th>\n",
       "      <th>notifications_enabled</th>\n",
       "      <th>mqid</th>\n",
       "      <th>...</th>\n",
       "      <th>codepage</th>\n",
       "      <th>ping_last</th>\n",
       "      <th>community_balance</th>\n",
       "      <th>retransmission</th>\n",
       "      <th>company</th>\n",
       "      <th>name</th>\n",
       "      <th>language</th>\n",
       "      <th>path</th>\n",
       "      <th>data_path</th>\n",
       "      <th>commondata_path</th>\n",
       "    </tr>\n",
       "  </thead>\n",
       "  <tbody>\n",
       "    <tr>\n",
       "      <th>Set</th>\n",
       "      <td>False</td>\n",
       "      <td>False</td>\n",
       "      <td>True</td>\n",
       "      <td>False</td>\n",
       "      <td>True</td>\n",
       "      <td>False</td>\n",
       "      <td>False</td>\n",
       "      <td>False</td>\n",
       "      <td>False</td>\n",
       "      <td>False</td>\n",
       "      <td>...</td>\n",
       "      <td>1252</td>\n",
       "      <td>47765</td>\n",
       "      <td>0.0</td>\n",
       "      <td>0.0</td>\n",
       "      <td>Tradeslide Trading Tech Limited</td>\n",
       "      <td>Darwinex MetaTrader 5</td>\n",
       "      <td>Spanish</td>\n",
       "      <td>C:\\Program Files\\Darwinex MetaTrader 5</td>\n",
       "      <td>C:\\Users\\joalr\\AppData\\Roaming\\MetaQuotes\\Term...</td>\n",
       "      <td>C:\\Users\\joalr\\AppData\\Roaming\\MetaQuotes\\Term...</td>\n",
       "    </tr>\n",
       "  </tbody>\n",
       "</table>\n",
       "<p>1 rows × 22 columns</p>\n",
       "</div>"
      ],
      "text/plain": [
       "     community_account  community_connection  connected  dlls_allowed  \\\n",
       "Set              False                 False       True         False   \n",
       "\n",
       "     trade_allowed  tradeapi_disabled  email_enabled  ftp_enabled  \\\n",
       "Set           True              False          False        False   \n",
       "\n",
       "     notifications_enabled   mqid  ...  codepage  ping_last  \\\n",
       "Set                  False  False  ...      1252      47765   \n",
       "\n",
       "     community_balance  retransmission                          company  \\\n",
       "Set                0.0             0.0  Tradeslide Trading Tech Limited   \n",
       "\n",
       "                      name language                                    path  \\\n",
       "Set  Darwinex MetaTrader 5  Spanish  C:\\Program Files\\Darwinex MetaTrader 5   \n",
       "\n",
       "                                             data_path  \\\n",
       "Set  C:\\Users\\joalr\\AppData\\Roaming\\MetaQuotes\\Term...   \n",
       "\n",
       "                                       commondata_path  \n",
       "Set  C:\\Users\\joalr\\AppData\\Roaming\\MetaQuotes\\Term...  \n",
       "\n",
       "[1 rows x 22 columns]"
      ]
     },
     "execution_count": 7,
     "metadata": {},
     "output_type": "execute_result"
    }
   ],
   "source": [
    "# Imprimimos el datadrame.\n",
    "terminal_info_df"
   ]
  },
  {
   "cell_type": "markdown",
   "metadata": {},
   "source": [
    "# Informacion de la cuenta"
   ]
  },
  {
   "cell_type": "code",
   "execution_count": 8,
   "metadata": {},
   "outputs": [
    {
     "data": {
      "text/plain": [
       "99813.56"
      ]
     },
     "execution_count": 8,
     "metadata": {},
     "output_type": "execute_result"
    }
   ],
   "source": [
    "# Aqui almacenamos la informacion de la cuenta, en un diccionario.\n",
    "account_info_dict = mt5.account_info()._asdict()\n",
    "\n",
    "# Asi al momento de necesitar saber algun dato especifico lo tendremos ordenado y segmentado.\n",
    "account_info_dict['profit']\n",
    "account_info_dict['balance']\n"
   ]
  },
  {
   "cell_type": "markdown",
   "metadata": {},
   "source": [
    "# Recuperacion de datos: Symbols"
   ]
  },
  {
   "cell_type": "code",
   "execution_count": 9,
   "metadata": {},
   "outputs": [
    {
     "data": {
      "text/plain": [
       "140"
      ]
     },
     "execution_count": 9,
     "metadata": {},
     "output_type": "execute_result"
    }
   ],
   "source": [
    "# Para ver la cantidad de simbolos.\n",
    "mt5.symbols_total()"
   ]
  },
  {
   "cell_type": "code",
   "execution_count": 10,
   "metadata": {},
   "outputs": [],
   "source": [
    "# Para filtrar simbolos.\n",
    "mt5.symbols_get() # Devolvera todos los simbolos en una lista fea de leer.\n",
    "mt5.symbols_get('*EUR*') # Devolvera todos los simbolos relacionados con el ACTIVO SELECCIONADO en una lista fea de leer.\n",
    "symbols = mt5.symbols_get('*EUR*') # Los metemos en una variable."
   ]
  },
  {
   "cell_type": "code",
   "execution_count": 11,
   "metadata": {},
   "outputs": [
    {
     "name": "stdout",
     "output_type": "stream",
     "text": [
      "EURUSD\n",
      "EURAUD\n",
      "EURCAD\n",
      "EURCHF\n",
      "EURCZK\n",
      "EURDKK\n",
      "EURGBP\n",
      "EURHKD\n",
      "EURHUF\n",
      "EURJPY\n",
      "EURNOK\n",
      "EURNZD\n",
      "EURPLN\n",
      "EURRUR\n",
      "EURRUB\n",
      "EURSEK\n",
      "EURTRY\n",
      "EURZAR\n",
      "XAUEUR\n",
      "XAGEUR\n",
      "EURMXN\n",
      "EURSGD\n",
      "EURILS\n",
      "EURCNH\n"
     ]
    }
   ],
   "source": [
    "# Con un bucle for recorremos solo los nombres, es mucho mejor para el ojo.\n",
    "for symbol in symbols:\n",
    "    print(symbol.name)"
   ]
  },
  {
   "cell_type": "code",
   "execution_count": 12,
   "metadata": {},
   "outputs": [],
   "source": [
    "# Acceder a la informacion de un simbolo en concreto.\n",
    "mt5.symbol_info('EURUSD')\n",
    "eurusd = mt5.symbol_info('EURUSD')._asdict() # Lo metemos como un diccionario en una variable."
   ]
  },
  {
   "cell_type": "code",
   "execution_count": 13,
   "metadata": {},
   "outputs": [
    {
     "data": {
      "text/plain": [
       "5"
      ]
     },
     "execution_count": 13,
     "metadata": {},
     "output_type": "execute_result"
    }
   ],
   "source": [
    "# Igual que antes podemos acceder siempre a la informacion especifica del diccionario.\n",
    "eurusd['digits']"
   ]
  },
  {
   "cell_type": "code",
   "execution_count": 14,
   "metadata": {},
   "outputs": [],
   "source": [
    "# Lo metemos PLANAMENTE en una variable.\n",
    "eurjpy = mt5.symbol_info('EURJPY')"
   ]
  },
  {
   "cell_type": "code",
   "execution_count": 15,
   "metadata": {},
   "outputs": [
    {
     "data": {
      "text/plain": [
       "3"
      ]
     },
     "execution_count": 15,
     "metadata": {},
     "output_type": "execute_result"
    }
   ],
   "source": [
    "# De esta forma tambien podriamos acceder, atravez de la nomenclatura del punto.\n",
    "eurjpy.digits"
   ]
  },
  {
   "cell_type": "markdown",
   "metadata": {},
   "source": [
    "##### Agregar al Market Watch"
   ]
  },
  {
   "cell_type": "code",
   "execution_count": 16,
   "metadata": {},
   "outputs": [
    {
     "name": "stdout",
     "output_type": "stream",
     "text": [
      "El simbolo ha sido agregado.\n"
     ]
    }
   ],
   "source": [
    "#Agregamos un simbolo al market watch, que creo, sera necesario para poder operarlo desde python.\n",
    "if (mt5.symbol_select('EURUSD',True)):\n",
    "    print('El simbolo ha sido agregado.')\n",
    "else:\n",
    "    print(f'Error al agregar el simbolo: {mt5.last_error()}')"
   ]
  },
  {
   "cell_type": "markdown",
   "metadata": {},
   "source": [
    "##### InfoTICK sobre un activo."
   ]
  },
  {
   "cell_type": "code",
   "execution_count": 17,
   "metadata": {},
   "outputs": [
    {
     "data": {
      "text/plain": [
       "1.09194"
      ]
     },
     "execution_count": 17,
     "metadata": {},
     "output_type": "execute_result"
    }
   ],
   "source": [
    "#Pedimos informacion sobre el ultimo tick de un activo x.\n",
    "symbol_info = mt5.symbol_info_tick('EURUSD')\n",
    "symbol_info.ask"
   ]
  },
  {
   "cell_type": "code",
   "execution_count": 18,
   "metadata": {},
   "outputs": [
    {
     "data": {
      "text/plain": [
       "{'time': 1722621093,\n",
       " 'bid': 1.09192,\n",
       " 'ask': 1.09194,\n",
       " 'last': 0.0,\n",
       " 'volume': 0,\n",
       " 'time_msc': 1722621093314,\n",
       " 'flags': 1030,\n",
       " 'volume_real': 0.0}"
      ]
     },
     "execution_count": 18,
     "metadata": {},
     "output_type": "execute_result"
    }
   ],
   "source": [
    "mt5.symbol_info_tick('EURUSD')._asdict()"
   ]
  },
  {
   "cell_type": "markdown",
   "metadata": {},
   "source": [
    "# Adquisicion de datos OHLC\n",
    " \n",
    "###### Importaremos datos de calidad con formato OHLC que es como estamos acostumbrados a verlos. Veremos la importancia de trabajar con las zonas horarias correctas."
   ]
  },
  {
   "cell_type": "code",
   "execution_count": 19,
   "metadata": {},
   "outputs": [],
   "source": [
    "\n",
    "from datetime import datetime\n",
    "import pytz"
   ]
  },
  {
   "cell_type": "code",
   "execution_count": 20,
   "metadata": {},
   "outputs": [
    {
     "data": {
      "text/plain": [
       "datetime.datetime(2023, 7, 27, 15, 0)"
      ]
     },
     "execution_count": 20,
     "metadata": {},
     "output_type": "execute_result"
    }
   ],
   "source": [
    "symbol = 'EURNOK'\n",
    "timeframe = mt5.TIMEFRAME_H1\n",
    "\n",
    "# Recuperamos datos desde una fecha determinada\n",
    "date = datetime.strptime('2023-07-27 15:00:00', '%Y-%m-%d %H:%M:%S')\n",
    "date"
   ]
  },
  {
   "cell_type": "code",
   "execution_count": 21,
   "metadata": {},
   "outputs": [],
   "source": [
    "# NO LO USAREMOS.\n",
    "# Convertir mi zona horaria a UTC\n",
    "# date.astimezone(pytz.utc)\n",
    "# Esto para calcular la hora que le he dado a la hora que corresponde en UTC (ES UN DOLOR DE CABEZA)"
   ]
  },
  {
   "cell_type": "code",
   "execution_count": 22,
   "metadata": {},
   "outputs": [],
   "source": [
    "# Indicar que mi zona horaria ya esta en UTC\n",
    "date.replace(tzinfo=pytz.utc)\n",
    "date = date.replace(tzinfo=pytz.utc)\n",
    "# De esta forma directamente le indicaremos la hora en UTC, es decir no tenemos que calcular los cambios de horario."
   ]
  },
  {
   "cell_type": "code",
   "execution_count": 23,
   "metadata": {},
   "outputs": [],
   "source": [
    "# Llamamos 10 datos de tiempo desde la fecha y hora establecida. (Por eso el 10, al final)\n",
    "raw_ohlc_data = mt5.copy_rates_from(symbol, timeframe, date, 10)\n",
    "# Lo metemos en un DF\n",
    "df = pd.DataFrame(raw_ohlc_data)\n",
    "# Y pasamos finalmente la columna time del DF a formato datetime, indicando que la unidad es de segundos.\n",
    "df['time'] = pd.to_datetime(df['time'], unit='s')\n",
    "df.set_index('time', inplace=True)"
   ]
  },
  {
   "cell_type": "code",
   "execution_count": 24,
   "metadata": {},
   "outputs": [
    {
     "data": {
      "text/html": [
       "<div>\n",
       "<style scoped>\n",
       "    .dataframe tbody tr th:only-of-type {\n",
       "        vertical-align: middle;\n",
       "    }\n",
       "\n",
       "    .dataframe tbody tr th {\n",
       "        vertical-align: top;\n",
       "    }\n",
       "\n",
       "    .dataframe thead th {\n",
       "        text-align: right;\n",
       "    }\n",
       "</style>\n",
       "<table border=\"1\" class=\"dataframe\">\n",
       "  <thead>\n",
       "    <tr style=\"text-align: right;\">\n",
       "      <th></th>\n",
       "      <th>open</th>\n",
       "      <th>high</th>\n",
       "      <th>low</th>\n",
       "      <th>close</th>\n",
       "      <th>tick_volume</th>\n",
       "      <th>spread</th>\n",
       "      <th>real_volume</th>\n",
       "    </tr>\n",
       "    <tr>\n",
       "      <th>time</th>\n",
       "      <th></th>\n",
       "      <th></th>\n",
       "      <th></th>\n",
       "      <th></th>\n",
       "      <th></th>\n",
       "      <th></th>\n",
       "      <th></th>\n",
       "    </tr>\n",
       "  </thead>\n",
       "  <tbody>\n",
       "    <tr>\n",
       "      <th>2023-07-27 06:00:00</th>\n",
       "      <td>11.17320</td>\n",
       "      <td>11.17430</td>\n",
       "      <td>11.16679</td>\n",
       "      <td>11.16680</td>\n",
       "      <td>678</td>\n",
       "      <td>102</td>\n",
       "      <td>0</td>\n",
       "    </tr>\n",
       "    <tr>\n",
       "      <th>2023-07-27 07:00:00</th>\n",
       "      <td>11.16650</td>\n",
       "      <td>11.16810</td>\n",
       "      <td>11.16253</td>\n",
       "      <td>11.16719</td>\n",
       "      <td>1128</td>\n",
       "      <td>102</td>\n",
       "      <td>0</td>\n",
       "    </tr>\n",
       "    <tr>\n",
       "      <th>2023-07-27 08:00:00</th>\n",
       "      <td>11.16739</td>\n",
       "      <td>11.18670</td>\n",
       "      <td>11.16457</td>\n",
       "      <td>11.17829</td>\n",
       "      <td>2507</td>\n",
       "      <td>102</td>\n",
       "      <td>0</td>\n",
       "    </tr>\n",
       "    <tr>\n",
       "      <th>2023-07-27 09:00:00</th>\n",
       "      <td>11.17989</td>\n",
       "      <td>11.19951</td>\n",
       "      <td>11.17759</td>\n",
       "      <td>11.19951</td>\n",
       "      <td>3280</td>\n",
       "      <td>102</td>\n",
       "      <td>0</td>\n",
       "    </tr>\n",
       "    <tr>\n",
       "      <th>2023-07-27 10:00:00</th>\n",
       "      <td>11.19759</td>\n",
       "      <td>11.19945</td>\n",
       "      <td>11.14200</td>\n",
       "      <td>11.14894</td>\n",
       "      <td>1787</td>\n",
       "      <td>102</td>\n",
       "      <td>0</td>\n",
       "    </tr>\n",
       "    <tr>\n",
       "      <th>2023-07-27 11:00:00</th>\n",
       "      <td>11.14869</td>\n",
       "      <td>11.16669</td>\n",
       "      <td>11.13309</td>\n",
       "      <td>11.14469</td>\n",
       "      <td>2076</td>\n",
       "      <td>102</td>\n",
       "      <td>0</td>\n",
       "    </tr>\n",
       "    <tr>\n",
       "      <th>2023-07-27 12:00:00</th>\n",
       "      <td>11.14454</td>\n",
       "      <td>11.17724</td>\n",
       "      <td>11.13354</td>\n",
       "      <td>11.17424</td>\n",
       "      <td>2273</td>\n",
       "      <td>102</td>\n",
       "      <td>0</td>\n",
       "    </tr>\n",
       "    <tr>\n",
       "      <th>2023-07-27 13:00:00</th>\n",
       "      <td>11.17429</td>\n",
       "      <td>11.19354</td>\n",
       "      <td>11.15510</td>\n",
       "      <td>11.16639</td>\n",
       "      <td>2072</td>\n",
       "      <td>102</td>\n",
       "      <td>0</td>\n",
       "    </tr>\n",
       "    <tr>\n",
       "      <th>2023-07-27 14:00:00</th>\n",
       "      <td>11.16634</td>\n",
       "      <td>11.17171</td>\n",
       "      <td>11.11764</td>\n",
       "      <td>11.12069</td>\n",
       "      <td>2189</td>\n",
       "      <td>102</td>\n",
       "      <td>0</td>\n",
       "    </tr>\n",
       "    <tr>\n",
       "      <th>2023-07-27 15:00:00</th>\n",
       "      <td>11.12064</td>\n",
       "      <td>11.16282</td>\n",
       "      <td>11.11406</td>\n",
       "      <td>11.14978</td>\n",
       "      <td>2671</td>\n",
       "      <td>102</td>\n",
       "      <td>0</td>\n",
       "    </tr>\n",
       "  </tbody>\n",
       "</table>\n",
       "</div>"
      ],
      "text/plain": [
       "                         open      high       low     close  tick_volume  \\\n",
       "time                                                                       \n",
       "2023-07-27 06:00:00  11.17320  11.17430  11.16679  11.16680          678   \n",
       "2023-07-27 07:00:00  11.16650  11.16810  11.16253  11.16719         1128   \n",
       "2023-07-27 08:00:00  11.16739  11.18670  11.16457  11.17829         2507   \n",
       "2023-07-27 09:00:00  11.17989  11.19951  11.17759  11.19951         3280   \n",
       "2023-07-27 10:00:00  11.19759  11.19945  11.14200  11.14894         1787   \n",
       "2023-07-27 11:00:00  11.14869  11.16669  11.13309  11.14469         2076   \n",
       "2023-07-27 12:00:00  11.14454  11.17724  11.13354  11.17424         2273   \n",
       "2023-07-27 13:00:00  11.17429  11.19354  11.15510  11.16639         2072   \n",
       "2023-07-27 14:00:00  11.16634  11.17171  11.11764  11.12069         2189   \n",
       "2023-07-27 15:00:00  11.12064  11.16282  11.11406  11.14978         2671   \n",
       "\n",
       "                     spread  real_volume  \n",
       "time                                      \n",
       "2023-07-27 06:00:00     102            0  \n",
       "2023-07-27 07:00:00     102            0  \n",
       "2023-07-27 08:00:00     102            0  \n",
       "2023-07-27 09:00:00     102            0  \n",
       "2023-07-27 10:00:00     102            0  \n",
       "2023-07-27 11:00:00     102            0  \n",
       "2023-07-27 12:00:00     102            0  \n",
       "2023-07-27 13:00:00     102            0  \n",
       "2023-07-27 14:00:00     102            0  \n",
       "2023-07-27 15:00:00     102            0  "
      ]
     },
     "execution_count": 24,
     "metadata": {},
     "output_type": "execute_result"
    }
   ],
   "source": [
    "df"
   ]
  },
  {
   "cell_type": "code",
   "execution_count": 25,
   "metadata": {},
   "outputs": [],
   "source": [
    "# Llamamos 10 datos de tiempo desde la ultima vela, hacia el numero de velas anterior que le digamos.\n",
    "raw_ohlc_data = mt5.copy_rates_from_pos(symbol, timeframe, 1, 10)\n",
    "# Lo metemos en un DF\n",
    "df = pd.DataFrame(raw_ohlc_data)\n",
    "# Y pasamos finalmente la columna time del DF a formato datetime, indicando que la unidad es de segundos.\n",
    "df['time'] = pd.to_datetime(df['time'], unit='s')\n",
    "df.set_index('time', inplace=True)\n",
    "\n",
    "\n",
    "# Tener en cuenta que los datos van a estar en la timezone Asia/Nicosia y en DST de US."
   ]
  },
  {
   "cell_type": "code",
   "execution_count": 26,
   "metadata": {},
   "outputs": [
    {
     "data": {
      "text/html": [
       "<div>\n",
       "<style scoped>\n",
       "    .dataframe tbody tr th:only-of-type {\n",
       "        vertical-align: middle;\n",
       "    }\n",
       "\n",
       "    .dataframe tbody tr th {\n",
       "        vertical-align: top;\n",
       "    }\n",
       "\n",
       "    .dataframe thead th {\n",
       "        text-align: right;\n",
       "    }\n",
       "</style>\n",
       "<table border=\"1\" class=\"dataframe\">\n",
       "  <thead>\n",
       "    <tr style=\"text-align: right;\">\n",
       "      <th></th>\n",
       "      <th>open</th>\n",
       "      <th>high</th>\n",
       "      <th>low</th>\n",
       "      <th>close</th>\n",
       "      <th>tick_volume</th>\n",
       "      <th>spread</th>\n",
       "      <th>real_volume</th>\n",
       "    </tr>\n",
       "    <tr>\n",
       "      <th>time</th>\n",
       "      <th></th>\n",
       "      <th></th>\n",
       "      <th></th>\n",
       "      <th></th>\n",
       "      <th></th>\n",
       "      <th></th>\n",
       "      <th></th>\n",
       "    </tr>\n",
       "  </thead>\n",
       "  <tbody>\n",
       "    <tr>\n",
       "      <th>2024-08-02 07:00:00</th>\n",
       "      <td>11.80524</td>\n",
       "      <td>11.81009</td>\n",
       "      <td>11.80239</td>\n",
       "      <td>11.80864</td>\n",
       "      <td>4764</td>\n",
       "      <td>282</td>\n",
       "      <td>0</td>\n",
       "    </tr>\n",
       "    <tr>\n",
       "      <th>2024-08-02 08:00:00</th>\n",
       "      <td>11.80869</td>\n",
       "      <td>11.81934</td>\n",
       "      <td>11.80351</td>\n",
       "      <td>11.80699</td>\n",
       "      <td>3975</td>\n",
       "      <td>282</td>\n",
       "      <td>0</td>\n",
       "    </tr>\n",
       "    <tr>\n",
       "      <th>2024-08-02 09:00:00</th>\n",
       "      <td>11.80684</td>\n",
       "      <td>11.81596</td>\n",
       "      <td>11.79258</td>\n",
       "      <td>11.81359</td>\n",
       "      <td>2913</td>\n",
       "      <td>83</td>\n",
       "      <td>0</td>\n",
       "    </tr>\n",
       "    <tr>\n",
       "      <th>2024-08-02 10:00:00</th>\n",
       "      <td>11.81357</td>\n",
       "      <td>11.85299</td>\n",
       "      <td>11.81024</td>\n",
       "      <td>11.84203</td>\n",
       "      <td>3711</td>\n",
       "      <td>282</td>\n",
       "      <td>0</td>\n",
       "    </tr>\n",
       "    <tr>\n",
       "      <th>2024-08-02 11:00:00</th>\n",
       "      <td>11.83970</td>\n",
       "      <td>11.86172</td>\n",
       "      <td>11.83288</td>\n",
       "      <td>11.85892</td>\n",
       "      <td>3170</td>\n",
       "      <td>282</td>\n",
       "      <td>0</td>\n",
       "    </tr>\n",
       "    <tr>\n",
       "      <th>2024-08-02 12:00:00</th>\n",
       "      <td>11.85899</td>\n",
       "      <td>11.91294</td>\n",
       "      <td>11.85654</td>\n",
       "      <td>11.90754</td>\n",
       "      <td>3067</td>\n",
       "      <td>88</td>\n",
       "      <td>0</td>\n",
       "    </tr>\n",
       "    <tr>\n",
       "      <th>2024-08-02 13:00:00</th>\n",
       "      <td>11.90759</td>\n",
       "      <td>11.92007</td>\n",
       "      <td>11.89077</td>\n",
       "      <td>11.90998</td>\n",
       "      <td>2738</td>\n",
       "      <td>282</td>\n",
       "      <td>0</td>\n",
       "    </tr>\n",
       "    <tr>\n",
       "      <th>2024-08-02 14:00:00</th>\n",
       "      <td>11.90974</td>\n",
       "      <td>11.92175</td>\n",
       "      <td>11.89315</td>\n",
       "      <td>11.89883</td>\n",
       "      <td>2512</td>\n",
       "      <td>210</td>\n",
       "      <td>0</td>\n",
       "    </tr>\n",
       "    <tr>\n",
       "      <th>2024-08-02 15:00:00</th>\n",
       "      <td>11.89892</td>\n",
       "      <td>11.95604</td>\n",
       "      <td>11.86713</td>\n",
       "      <td>11.92464</td>\n",
       "      <td>4936</td>\n",
       "      <td>282</td>\n",
       "      <td>0</td>\n",
       "    </tr>\n",
       "    <tr>\n",
       "      <th>2024-08-02 16:00:00</th>\n",
       "      <td>11.92477</td>\n",
       "      <td>11.94007</td>\n",
       "      <td>11.89765</td>\n",
       "      <td>11.92409</td>\n",
       "      <td>5043</td>\n",
       "      <td>282</td>\n",
       "      <td>0</td>\n",
       "    </tr>\n",
       "  </tbody>\n",
       "</table>\n",
       "</div>"
      ],
      "text/plain": [
       "                         open      high       low     close  tick_volume  \\\n",
       "time                                                                       \n",
       "2024-08-02 07:00:00  11.80524  11.81009  11.80239  11.80864         4764   \n",
       "2024-08-02 08:00:00  11.80869  11.81934  11.80351  11.80699         3975   \n",
       "2024-08-02 09:00:00  11.80684  11.81596  11.79258  11.81359         2913   \n",
       "2024-08-02 10:00:00  11.81357  11.85299  11.81024  11.84203         3711   \n",
       "2024-08-02 11:00:00  11.83970  11.86172  11.83288  11.85892         3170   \n",
       "2024-08-02 12:00:00  11.85899  11.91294  11.85654  11.90754         3067   \n",
       "2024-08-02 13:00:00  11.90759  11.92007  11.89077  11.90998         2738   \n",
       "2024-08-02 14:00:00  11.90974  11.92175  11.89315  11.89883         2512   \n",
       "2024-08-02 15:00:00  11.89892  11.95604  11.86713  11.92464         4936   \n",
       "2024-08-02 16:00:00  11.92477  11.94007  11.89765  11.92409         5043   \n",
       "\n",
       "                     spread  real_volume  \n",
       "time                                      \n",
       "2024-08-02 07:00:00     282            0  \n",
       "2024-08-02 08:00:00     282            0  \n",
       "2024-08-02 09:00:00      83            0  \n",
       "2024-08-02 10:00:00     282            0  \n",
       "2024-08-02 11:00:00     282            0  \n",
       "2024-08-02 12:00:00      88            0  \n",
       "2024-08-02 13:00:00     282            0  \n",
       "2024-08-02 14:00:00     210            0  \n",
       "2024-08-02 15:00:00     282            0  \n",
       "2024-08-02 16:00:00     282            0  "
      ]
     },
     "execution_count": 26,
     "metadata": {},
     "output_type": "execute_result"
    }
   ],
   "source": [
    "df"
   ]
  },
  {
   "cell_type": "code",
   "execution_count": 27,
   "metadata": {},
   "outputs": [],
   "source": [
    "\n",
    "#Recuperar datos entre dos fechas\n",
    "\n",
    "date_ini = datetime.strptime('2023-07-13 15:00:00', '%Y-%m-%d %H:%M:%S').replace(tzinfo=pytz.utc)\n",
    "date_end = datetime.strptime('2023-07-17 15:00:00', '%Y-%m-%d %H:%M:%S').replace(tzinfo=pytz.utc)\n",
    "raw_ohlc_data = mt5.copy_rates_range(symbol, timeframe, date_ini, date_end)\n",
    "df = pd.DataFrame(raw_ohlc_data)\n",
    "df['time'] = pd.to_datetime(df['time'], unit='s')\n",
    "df.set_index('time', inplace=True)\n"
   ]
  },
  {
   "cell_type": "code",
   "execution_count": 28,
   "metadata": {},
   "outputs": [
    {
     "data": {
      "text/html": [
       "<div>\n",
       "<style scoped>\n",
       "    .dataframe tbody tr th:only-of-type {\n",
       "        vertical-align: middle;\n",
       "    }\n",
       "\n",
       "    .dataframe tbody tr th {\n",
       "        vertical-align: top;\n",
       "    }\n",
       "\n",
       "    .dataframe thead th {\n",
       "        text-align: right;\n",
       "    }\n",
       "</style>\n",
       "<table border=\"1\" class=\"dataframe\">\n",
       "  <thead>\n",
       "    <tr style=\"text-align: right;\">\n",
       "      <th></th>\n",
       "      <th>open</th>\n",
       "      <th>high</th>\n",
       "      <th>low</th>\n",
       "      <th>close</th>\n",
       "      <th>tick_volume</th>\n",
       "      <th>spread</th>\n",
       "      <th>real_volume</th>\n",
       "    </tr>\n",
       "    <tr>\n",
       "      <th>time</th>\n",
       "      <th></th>\n",
       "      <th></th>\n",
       "      <th></th>\n",
       "      <th></th>\n",
       "      <th></th>\n",
       "      <th></th>\n",
       "      <th></th>\n",
       "    </tr>\n",
       "  </thead>\n",
       "  <tbody>\n",
       "    <tr>\n",
       "      <th>2023-07-17 11:00:00</th>\n",
       "      <td>11.24809</td>\n",
       "      <td>11.29360</td>\n",
       "      <td>11.24781</td>\n",
       "      <td>11.29130</td>\n",
       "      <td>2391</td>\n",
       "      <td>102</td>\n",
       "      <td>0</td>\n",
       "    </tr>\n",
       "    <tr>\n",
       "      <th>2023-07-17 12:00:00</th>\n",
       "      <td>11.29140</td>\n",
       "      <td>11.31569</td>\n",
       "      <td>11.25354</td>\n",
       "      <td>11.29189</td>\n",
       "      <td>2347</td>\n",
       "      <td>102</td>\n",
       "      <td>0</td>\n",
       "    </tr>\n",
       "    <tr>\n",
       "      <th>2023-07-17 13:00:00</th>\n",
       "      <td>11.29185</td>\n",
       "      <td>11.29630</td>\n",
       "      <td>11.26695</td>\n",
       "      <td>11.27417</td>\n",
       "      <td>1986</td>\n",
       "      <td>102</td>\n",
       "      <td>0</td>\n",
       "    </tr>\n",
       "    <tr>\n",
       "      <th>2023-07-17 14:00:00</th>\n",
       "      <td>11.27410</td>\n",
       "      <td>11.27435</td>\n",
       "      <td>11.24279</td>\n",
       "      <td>11.24324</td>\n",
       "      <td>1810</td>\n",
       "      <td>102</td>\n",
       "      <td>0</td>\n",
       "    </tr>\n",
       "    <tr>\n",
       "      <th>2023-07-17 15:00:00</th>\n",
       "      <td>11.24324</td>\n",
       "      <td>11.26760</td>\n",
       "      <td>11.23560</td>\n",
       "      <td>11.26760</td>\n",
       "      <td>2640</td>\n",
       "      <td>102</td>\n",
       "      <td>0</td>\n",
       "    </tr>\n",
       "  </tbody>\n",
       "</table>\n",
       "</div>"
      ],
      "text/plain": [
       "                         open      high       low     close  tick_volume  \\\n",
       "time                                                                       \n",
       "2023-07-17 11:00:00  11.24809  11.29360  11.24781  11.29130         2391   \n",
       "2023-07-17 12:00:00  11.29140  11.31569  11.25354  11.29189         2347   \n",
       "2023-07-17 13:00:00  11.29185  11.29630  11.26695  11.27417         1986   \n",
       "2023-07-17 14:00:00  11.27410  11.27435  11.24279  11.24324         1810   \n",
       "2023-07-17 15:00:00  11.24324  11.26760  11.23560  11.26760         2640   \n",
       "\n",
       "                     spread  real_volume  \n",
       "time                                      \n",
       "2023-07-17 11:00:00     102            0  \n",
       "2023-07-17 12:00:00     102            0  \n",
       "2023-07-17 13:00:00     102            0  \n",
       "2023-07-17 14:00:00     102            0  \n",
       "2023-07-17 15:00:00     102            0  "
      ]
     },
     "execution_count": 28,
     "metadata": {},
     "output_type": "execute_result"
    }
   ],
   "source": [
    "df.tail()"
   ]
  },
  {
   "cell_type": "markdown",
   "metadata": {},
   "source": [
    "# Adquisicion de datos en TICK"
   ]
  },
  {
   "cell_type": "code",
   "execution_count": 29,
   "metadata": {},
   "outputs": [],
   "source": [
    "symbol = 'EURUSD'\n",
    "\n",
    "# Para embellezer el codigo:\n",
    "formato = '%Y-%m-%d %H:%M:%S'\n",
    "\n",
    "# Definimos la fecha de inicio y de final\n",
    "date_ini = datetime.strptime('2023-07-13 15:00:00', formato).replace(tzinfo=pytz.utc)\n",
    "date_end = datetime.strptime('2023-07-17 15:00:00', formato).replace(tzinfo=pytz.utc)"
   ]
  },
  {
   "cell_type": "code",
   "execution_count": 30,
   "metadata": {},
   "outputs": [],
   "source": [
    "# Recogemos desde los proximos 5000 ticks desde la fecha de inicio indicada.\n",
    "df = pd.DataFrame(mt5.copy_ticks_from(symbol, date_ini, 5000, mt5.COPY_TICKS_ALL))\n",
    "df['time_msc'] = pd.to_datetime(df['time_msc'], unit='ms')\n",
    "df.set_index('time_msc', inplace=True)"
   ]
  },
  {
   "cell_type": "code",
   "execution_count": 31,
   "metadata": {},
   "outputs": [
    {
     "data": {
      "text/html": [
       "<div>\n",
       "<style scoped>\n",
       "    .dataframe tbody tr th:only-of-type {\n",
       "        vertical-align: middle;\n",
       "    }\n",
       "\n",
       "    .dataframe tbody tr th {\n",
       "        vertical-align: top;\n",
       "    }\n",
       "\n",
       "    .dataframe thead th {\n",
       "        text-align: right;\n",
       "    }\n",
       "</style>\n",
       "<table border=\"1\" class=\"dataframe\">\n",
       "  <thead>\n",
       "    <tr style=\"text-align: right;\">\n",
       "      <th></th>\n",
       "      <th>time</th>\n",
       "      <th>bid</th>\n",
       "      <th>ask</th>\n",
       "      <th>last</th>\n",
       "      <th>volume</th>\n",
       "      <th>flags</th>\n",
       "      <th>volume_real</th>\n",
       "      <th>spread</th>\n",
       "    </tr>\n",
       "    <tr>\n",
       "      <th>time_msc</th>\n",
       "      <th></th>\n",
       "      <th></th>\n",
       "      <th></th>\n",
       "      <th></th>\n",
       "      <th></th>\n",
       "      <th></th>\n",
       "      <th></th>\n",
       "      <th></th>\n",
       "    </tr>\n",
       "  </thead>\n",
       "  <tbody>\n",
       "    <tr>\n",
       "      <th>2023-07-13 15:00:00.022</th>\n",
       "      <td>1689260400</td>\n",
       "      <td>1.11745</td>\n",
       "      <td>1.11745</td>\n",
       "      <td>0.0</td>\n",
       "      <td>0</td>\n",
       "      <td>134</td>\n",
       "      <td>0.0</td>\n",
       "      <td>0.0</td>\n",
       "    </tr>\n",
       "    <tr>\n",
       "      <th>2023-07-13 15:00:00.223</th>\n",
       "      <td>1689260400</td>\n",
       "      <td>1.11746</td>\n",
       "      <td>1.11746</td>\n",
       "      <td>0.0</td>\n",
       "      <td>0</td>\n",
       "      <td>134</td>\n",
       "      <td>0.0</td>\n",
       "      <td>0.0</td>\n",
       "    </tr>\n",
       "    <tr>\n",
       "      <th>2023-07-13 15:00:00.571</th>\n",
       "      <td>1689260400</td>\n",
       "      <td>1.11748</td>\n",
       "      <td>1.11748</td>\n",
       "      <td>0.0</td>\n",
       "      <td>0</td>\n",
       "      <td>134</td>\n",
       "      <td>0.0</td>\n",
       "      <td>0.0</td>\n",
       "    </tr>\n",
       "    <tr>\n",
       "      <th>2023-07-13 15:00:00.667</th>\n",
       "      <td>1689260400</td>\n",
       "      <td>1.11749</td>\n",
       "      <td>1.11749</td>\n",
       "      <td>0.0</td>\n",
       "      <td>0</td>\n",
       "      <td>134</td>\n",
       "      <td>0.0</td>\n",
       "      <td>0.0</td>\n",
       "    </tr>\n",
       "    <tr>\n",
       "      <th>2023-07-13 15:00:00.741</th>\n",
       "      <td>1689260400</td>\n",
       "      <td>1.11750</td>\n",
       "      <td>1.11750</td>\n",
       "      <td>0.0</td>\n",
       "      <td>0</td>\n",
       "      <td>134</td>\n",
       "      <td>0.0</td>\n",
       "      <td>0.0</td>\n",
       "    </tr>\n",
       "  </tbody>\n",
       "</table>\n",
       "</div>"
      ],
      "text/plain": [
       "                               time      bid      ask  last  volume  flags  \\\n",
       "time_msc                                                                     \n",
       "2023-07-13 15:00:00.022  1689260400  1.11745  1.11745   0.0       0    134   \n",
       "2023-07-13 15:00:00.223  1689260400  1.11746  1.11746   0.0       0    134   \n",
       "2023-07-13 15:00:00.571  1689260400  1.11748  1.11748   0.0       0    134   \n",
       "2023-07-13 15:00:00.667  1689260400  1.11749  1.11749   0.0       0    134   \n",
       "2023-07-13 15:00:00.741  1689260400  1.11750  1.11750   0.0       0    134   \n",
       "\n",
       "                         volume_real  spread  \n",
       "time_msc                                      \n",
       "2023-07-13 15:00:00.022          0.0     0.0  \n",
       "2023-07-13 15:00:00.223          0.0     0.0  \n",
       "2023-07-13 15:00:00.571          0.0     0.0  \n",
       "2023-07-13 15:00:00.667          0.0     0.0  \n",
       "2023-07-13 15:00:00.741          0.0     0.0  "
      ]
     },
     "execution_count": 31,
     "metadata": {},
     "output_type": "execute_result"
    }
   ],
   "source": [
    "df['spread'] = df['ask'] - df['bid']\n",
    "df.head()"
   ]
  },
  {
   "cell_type": "code",
   "execution_count": 32,
   "metadata": {},
   "outputs": [],
   "source": [
    "df_2 = pd.DataFrame(mt5.copy_ticks_range(symbol, date_ini, date_end, mt5.COPY_TICKS_ALL))\n",
    "df_2['time_msc'] = pd.to_datetime(df_2['time_msc'], unit='ms')\n",
    "df_2.set_index('time_msc', inplace=True)"
   ]
  },
  {
   "cell_type": "code",
   "execution_count": 33,
   "metadata": {},
   "outputs": [
    {
     "data": {
      "text/html": [
       "<div>\n",
       "<style scoped>\n",
       "    .dataframe tbody tr th:only-of-type {\n",
       "        vertical-align: middle;\n",
       "    }\n",
       "\n",
       "    .dataframe tbody tr th {\n",
       "        vertical-align: top;\n",
       "    }\n",
       "\n",
       "    .dataframe thead th {\n",
       "        text-align: right;\n",
       "    }\n",
       "</style>\n",
       "<table border=\"1\" class=\"dataframe\">\n",
       "  <thead>\n",
       "    <tr style=\"text-align: right;\">\n",
       "      <th></th>\n",
       "      <th>time</th>\n",
       "      <th>bid</th>\n",
       "      <th>ask</th>\n",
       "      <th>last</th>\n",
       "      <th>volume</th>\n",
       "      <th>flags</th>\n",
       "      <th>volume_real</th>\n",
       "    </tr>\n",
       "    <tr>\n",
       "      <th>time_msc</th>\n",
       "      <th></th>\n",
       "      <th></th>\n",
       "      <th></th>\n",
       "      <th></th>\n",
       "      <th></th>\n",
       "      <th></th>\n",
       "      <th></th>\n",
       "    </tr>\n",
       "  </thead>\n",
       "  <tbody>\n",
       "    <tr>\n",
       "      <th>2023-07-13 15:00:00.022</th>\n",
       "      <td>1689260400</td>\n",
       "      <td>1.11745</td>\n",
       "      <td>1.11745</td>\n",
       "      <td>0.0</td>\n",
       "      <td>0</td>\n",
       "      <td>134</td>\n",
       "      <td>0.0</td>\n",
       "    </tr>\n",
       "    <tr>\n",
       "      <th>2023-07-13 15:00:00.223</th>\n",
       "      <td>1689260400</td>\n",
       "      <td>1.11746</td>\n",
       "      <td>1.11746</td>\n",
       "      <td>0.0</td>\n",
       "      <td>0</td>\n",
       "      <td>134</td>\n",
       "      <td>0.0</td>\n",
       "    </tr>\n",
       "    <tr>\n",
       "      <th>2023-07-13 15:00:00.571</th>\n",
       "      <td>1689260400</td>\n",
       "      <td>1.11748</td>\n",
       "      <td>1.11748</td>\n",
       "      <td>0.0</td>\n",
       "      <td>0</td>\n",
       "      <td>134</td>\n",
       "      <td>0.0</td>\n",
       "    </tr>\n",
       "    <tr>\n",
       "      <th>2023-07-13 15:00:00.667</th>\n",
       "      <td>1689260400</td>\n",
       "      <td>1.11749</td>\n",
       "      <td>1.11749</td>\n",
       "      <td>0.0</td>\n",
       "      <td>0</td>\n",
       "      <td>134</td>\n",
       "      <td>0.0</td>\n",
       "    </tr>\n",
       "    <tr>\n",
       "      <th>2023-07-13 15:00:00.741</th>\n",
       "      <td>1689260400</td>\n",
       "      <td>1.11750</td>\n",
       "      <td>1.11750</td>\n",
       "      <td>0.0</td>\n",
       "      <td>0</td>\n",
       "      <td>134</td>\n",
       "      <td>0.0</td>\n",
       "    </tr>\n",
       "    <tr>\n",
       "      <th>...</th>\n",
       "      <td>...</td>\n",
       "      <td>...</td>\n",
       "      <td>...</td>\n",
       "      <td>...</td>\n",
       "      <td>...</td>\n",
       "      <td>...</td>\n",
       "      <td>...</td>\n",
       "    </tr>\n",
       "    <tr>\n",
       "      <th>2023-07-17 14:59:57.576</th>\n",
       "      <td>1689605997</td>\n",
       "      <td>1.12342</td>\n",
       "      <td>1.12342</td>\n",
       "      <td>0.0</td>\n",
       "      <td>0</td>\n",
       "      <td>134</td>\n",
       "      <td>0.0</td>\n",
       "    </tr>\n",
       "    <tr>\n",
       "      <th>2023-07-17 14:59:59.209</th>\n",
       "      <td>1689605999</td>\n",
       "      <td>1.12341</td>\n",
       "      <td>1.12341</td>\n",
       "      <td>0.0</td>\n",
       "      <td>0</td>\n",
       "      <td>134</td>\n",
       "      <td>0.0</td>\n",
       "    </tr>\n",
       "    <tr>\n",
       "      <th>2023-07-17 14:59:59.229</th>\n",
       "      <td>1689605999</td>\n",
       "      <td>1.12342</td>\n",
       "      <td>1.12342</td>\n",
       "      <td>0.0</td>\n",
       "      <td>0</td>\n",
       "      <td>134</td>\n",
       "      <td>0.0</td>\n",
       "    </tr>\n",
       "    <tr>\n",
       "      <th>2023-07-17 14:59:59.787</th>\n",
       "      <td>1689605999</td>\n",
       "      <td>1.12341</td>\n",
       "      <td>1.12341</td>\n",
       "      <td>0.0</td>\n",
       "      <td>0</td>\n",
       "      <td>134</td>\n",
       "      <td>0.0</td>\n",
       "    </tr>\n",
       "    <tr>\n",
       "      <th>2023-07-17 14:59:59.983</th>\n",
       "      <td>1689605999</td>\n",
       "      <td>1.12339</td>\n",
       "      <td>1.12339</td>\n",
       "      <td>0.0</td>\n",
       "      <td>0</td>\n",
       "      <td>134</td>\n",
       "      <td>0.0</td>\n",
       "    </tr>\n",
       "  </tbody>\n",
       "</table>\n",
       "<p>129651 rows × 7 columns</p>\n",
       "</div>"
      ],
      "text/plain": [
       "                               time      bid      ask  last  volume  flags  \\\n",
       "time_msc                                                                     \n",
       "2023-07-13 15:00:00.022  1689260400  1.11745  1.11745   0.0       0    134   \n",
       "2023-07-13 15:00:00.223  1689260400  1.11746  1.11746   0.0       0    134   \n",
       "2023-07-13 15:00:00.571  1689260400  1.11748  1.11748   0.0       0    134   \n",
       "2023-07-13 15:00:00.667  1689260400  1.11749  1.11749   0.0       0    134   \n",
       "2023-07-13 15:00:00.741  1689260400  1.11750  1.11750   0.0       0    134   \n",
       "...                             ...      ...      ...   ...     ...    ...   \n",
       "2023-07-17 14:59:57.576  1689605997  1.12342  1.12342   0.0       0    134   \n",
       "2023-07-17 14:59:59.209  1689605999  1.12341  1.12341   0.0       0    134   \n",
       "2023-07-17 14:59:59.229  1689605999  1.12342  1.12342   0.0       0    134   \n",
       "2023-07-17 14:59:59.787  1689605999  1.12341  1.12341   0.0       0    134   \n",
       "2023-07-17 14:59:59.983  1689605999  1.12339  1.12339   0.0       0    134   \n",
       "\n",
       "                         volume_real  \n",
       "time_msc                              \n",
       "2023-07-13 15:00:00.022          0.0  \n",
       "2023-07-13 15:00:00.223          0.0  \n",
       "2023-07-13 15:00:00.571          0.0  \n",
       "2023-07-13 15:00:00.667          0.0  \n",
       "2023-07-13 15:00:00.741          0.0  \n",
       "...                              ...  \n",
       "2023-07-17 14:59:57.576          0.0  \n",
       "2023-07-17 14:59:59.209          0.0  \n",
       "2023-07-17 14:59:59.229          0.0  \n",
       "2023-07-17 14:59:59.787          0.0  \n",
       "2023-07-17 14:59:59.983          0.0  \n",
       "\n",
       "[129651 rows x 7 columns]"
      ]
     },
     "execution_count": 33,
     "metadata": {},
     "output_type": "execute_result"
    }
   ],
   "source": [
    "df_2"
   ]
  },
  {
   "cell_type": "markdown",
   "metadata": {},
   "source": [
    "# Envio y Cierre de Ordenes"
   ]
  },
  {
   "cell_type": "code",
   "execution_count": 43,
   "metadata": {},
   "outputs": [
    {
     "name": "stdout",
     "output_type": "stream",
     "text": [
      "Símbolo añadido correctamente\n"
     ]
    }
   ],
   "source": [
    "# Primero, definimos el símbolo en el que queremos abrir nuestras operaciones\n",
    "symbol = 'USDSEK'\n",
    "\n",
    "# Y nos aseguramos de que dicho símbolo esté añadido al MarketWatch\n",
    "if mt5.symbol_select(symbol, True):\n",
    "    print(\"Símbolo añadido correctamente\")\n",
    "else:\n",
    "    print(f\"Ha ocurrido un error añadiendo el símbolo: {mt5.last_error()}\")"
   ]
  },
  {
   "cell_type": "code",
   "execution_count": 44,
   "metadata": {},
   "outputs": [],
   "source": [
    "# #Creacion del trade Request.\n",
    "# request = {\n",
    "#     'action': mt5.TRADE_ACTION_DEAL, #Enviamos una orden a mercado.\n",
    "#     'magic': 1010101010, #Magic number es el id de mi estrategia, debe tener 10 numeros. \n",
    "#     #'order'        : para manejar ordenes pendientes... NO ES EL CASO.\n",
    "#     'symbol': symbol,\n",
    "#     'volume': 1.25, #Un numero entero siempre positivo.\n",
    "#     #'price'        : Siendo una orden a mercado no necesitamos este valor.\n",
    "#     #'stoplimit'    : Siendo una orden a mercado no necesitamos este valor.\n",
    "#     'sl': 0.0, #StopLoss\n",
    "#     'tp': 0.0, #TakeProfit\n",
    "#     'deviation': 50,   #Slippage que estamos dispuestos a tolerar.\n",
    "#     'type': mt5.ORDER_TYPE_BUY, #Tipo de orden (Compra, venta, limits...)\n",
    "#     'type_filling': mt5.ORDER_FILLING_FOK, #Forma de relleno de la orden, ver mas a detalle, en este caso fill or kill.\n",
    "#     'type_time': mt5.ORDER_TIME_GTC, #Si queremos cerrarla con condicion de tiempo, en este caso Got till Cancel es para tenerla abierta hasta que la cerremos nosotros.\n",
    "#     'comment': \"Mi primera orden desde python.\"\n",
    "# } \n",
    "# request  \n",
    "\n",
    "# POR ALGUNA EXTRANIA RAZON NO SE EJECUTA BIEN CON LOS COMENTARIOS Y LAS TABULACIONES."
   ]
  },
  {
   "cell_type": "code",
   "execution_count": 51,
   "metadata": {},
   "outputs": [],
   "source": [
    "\n",
    "ask = mt5.symbol_info_tick(symbol).ask\n",
    "bid = mt5.symbol_info_tick(symbol).bid\n",
    "\n",
    "# Creamos el trade request necesario\n",
    "request = {\n",
    "    'action': mt5.TRADE_ACTION_DEAL,\n",
    "    'magic': 1010101010,\n",
    "    'symbol': symbol,\n",
    "    'volume': 1.25,\n",
    "    'sl': ask - 0.1,\n",
    "    'tp': bid + 0.2,\n",
    "    'price': mt5.symbol_info_tick(symbol).ask,\n",
    "    'deviation': 50,\n",
    "    'type': mt5.ORDER_TYPE_BUY,\n",
    "    'type_filling': mt5.ORDER_FILLING_FOK,\n",
    "    'type_time': mt5.ORDER_TIME_GTC,\n",
    "    'comment': \"Primera orden desde Python\"\n",
    "}"
   ]
  },
  {
   "cell_type": "code",
   "execution_count": 77,
   "metadata": {},
   "outputs": [
    {
     "name": "stdout",
     "output_type": "stream",
     "text": [
      "OrderSendResult(retcode=10009, deal=2683248592, order=2708961231, volume=1.25, price=10.57543, bid=0.0, ask=0.0, comment='Request executed', request_id=246082533, retcode_external=0, request=TradeRequest(action=1, magic=1010101010, order=0, symbol='USDSEK', volume=1.25, price=10.57124, stoplimit=0.0, sl=10.47124, tp=10.769829999999999, deviation=50, type=0, type_filling=0, type_time=0, expiration=0, comment='Primera orden desde Python', position=0, position_by=0))\n",
      "La orden se ha ejecutado correctamente: OrderSendResult(retcode=10009, deal=2683248592, order=2708961231, volume=1.25, price=10.57543, bid=0.0, ask=0.0, comment='Request executed', request_id=246082533, retcode_external=0, request=TradeRequest(action=1, magic=1010101010, order=0, symbol='USDSEK', volume=1.25, price=10.57124, stoplimit=0.0, sl=10.47124, tp=10.769829999999999, deviation=50, type=0, type_filling=0, type_time=0, expiration=0, comment='Primera orden desde Python', position=0, position_by=0))\n"
     ]
    }
   ],
   "source": [
    "# Y enviamos el request para poder ejecutar la orden\n",
    "order = mt5.order_send(request)\n",
    "print(order)\n",
    "\n",
    "if order.retcode == mt5.TRADE_RETCODE_DONE:\n",
    "    print(f\"La orden se ha ejecutado correctamente: {order}\")\n",
    "else:\n",
    "    print(f\"Ha ocurrido un error al ejecutar la orden: {mt5.last_error()}\")"
   ]
  },
  {
   "cell_type": "markdown",
   "metadata": {},
   "source": [
    "# Cierre de todas las operaciones abiertas."
   ]
  },
  {
   "cell_type": "code",
   "execution_count": 80,
   "metadata": {},
   "outputs": [],
   "source": [
    "def cerrar_todas_positiones(position):\n",
    "\n",
    "    request = {\n",
    "        'action': mt5.TRADE_ACTION_DEAL,\n",
    "        'position':position.ticket,\n",
    "        'magic': position.magic,\n",
    "        'symbol': position.symbol,\n",
    "        'volume': position.volume,\n",
    "        'deviation': 50,\n",
    "        'type': mt5.ORDER_TYPE_BUY if position.type == 1 else mt5.ORDER_TYPE_SELL,\n",
    "        'type_filling': mt5.ORDER_FILLING_FOK,\n",
    "        'type_time': mt5.ORDER_TIME_GTC,\n",
    "        'price': mt5.symbol_info_tick(position.symbol).ask if position.type == 1 else mt5.symbol_info_tick(position.symbol).bid,\n",
    "        'comment': \"Primera orden desde Python\"\n",
    "    }\n",
    "    \n",
    "    return mt5.order_send(request)"
   ]
  },
  {
   "cell_type": "code",
   "execution_count": 81,
   "metadata": {},
   "outputs": [],
   "source": [
    "# Primero saber cuantas operaciones tenemos abiertas\n",
    "positions = mt5.positions_get()\n",
    "\n",
    "for position in positions:\n",
    "    cerrar_todas_positiones(position)\n",
    "\n"
   ]
  },
  {
   "cell_type": "code",
   "execution_count": null,
   "metadata": {},
   "outputs": [],
   "source": []
  }
 ],
 "metadata": {
  "kernelspec": {
   "display_name": "mt5python",
   "language": "python",
   "name": "python3"
  },
  "language_info": {
   "codemirror_mode": {
    "name": "ipython",
    "version": 3
   },
   "file_extension": ".py",
   "mimetype": "text/x-python",
   "name": "python",
   "nbconvert_exporter": "python",
   "pygments_lexer": "ipython3",
   "version": "3.11.9"
  }
 },
 "nbformat": 4,
 "nbformat_minor": 2
}
