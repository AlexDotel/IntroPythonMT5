{
 "cells": [
  {
   "cell_type": "markdown",
   "metadata": {},
   "source": [
    "# Conector MT5 Python"
   ]
  },
  {
   "cell_type": "code",
   "execution_count": 239,
   "metadata": {},
   "outputs": [],
   "source": [
    "import pandas as pd\n",
    "import MetaTrader5 as mt5"
   ]
  },
  {
   "cell_type": "code",
   "execution_count": 240,
   "metadata": {},
   "outputs": [],
   "source": [
    "# Creamos un diccionario con las credenciales.\n",
    "\n",
    "creds = {\n",
    "    'path':'C:\\\\Program Files\\\\Darwinex MetaTrader 5\\\\terminal64.exe',\n",
    "    ## MetaQuotes Account\n",
    "    'login': 84666107,\n",
    "    'pss':'D@D7NvSa',\n",
    "    'server':'MetaQuotes-Demo',\n",
    "\n",
    "    ## Darwinex Account\n",
    "    # 'login' : 4000040131,\n",
    "    # 'pss':'$iC4kd$8%K0',\n",
    "    # 'server':'liveUK-mt5.darwinex.com',\n",
    "    \n",
    "    'timeout':60000,\n",
    "    'portable':False,\n",
    "}"
   ]
  },
  {
   "cell_type": "code",
   "execution_count": 241,
   "metadata": {},
   "outputs": [
    {
     "data": {
      "text/plain": [
       "'C:\\\\Program Files\\\\Darwinex MetaTrader 5\\\\terminal64.exe'"
      ]
     },
     "execution_count": 241,
     "metadata": {},
     "output_type": "execute_result"
    }
   ],
   "source": [
    "creds['path']"
   ]
  },
  {
   "cell_type": "code",
   "execution_count": 242,
   "metadata": {},
   "outputs": [
    {
     "name": "stdout",
     "output_type": "stream",
     "text": [
      "MT5 lanzado correctamente y conectado.\n"
     ]
    }
   ],
   "source": [
    "# Conexion a MT5\n",
    "if mt5.initialize(path=creds['path'], login=creds['login'], password=creds['pss'], server=creds['server'],\n",
    "        timeout=creds['timeout'], portable=creds['portable']):\n",
    "    print('MT5 lanzado correctamente y conectado.')\n",
    "else:\n",
    "    print(f'Ha habido un problema iniciando: {mt5.last_error()}')"
   ]
  },
  {
   "cell_type": "markdown",
   "metadata": {},
   "source": [
    "# Informacion del Terminal"
   ]
  },
  {
   "cell_type": "code",
   "execution_count": 243,
   "metadata": {},
   "outputs": [],
   "source": [
    "# Solicitamos la info de MT5 pero no podemos modificarla desde Python\n",
    "terminal_info_dic = mt5.terminal_info()._asdict()"
   ]
  },
  {
   "cell_type": "code",
   "execution_count": 244,
   "metadata": {},
   "outputs": [],
   "source": [
    "# Lo metemos en un dataframe.\n",
    "terminal_info_df = pd.DataFrame(terminal_info_dic, index=['Set'])"
   ]
  },
  {
   "cell_type": "code",
   "execution_count": 245,
   "metadata": {},
   "outputs": [
    {
     "data": {
      "text/html": [
       "<div>\n",
       "<style scoped>\n",
       "    .dataframe tbody tr th:only-of-type {\n",
       "        vertical-align: middle;\n",
       "    }\n",
       "\n",
       "    .dataframe tbody tr th {\n",
       "        vertical-align: top;\n",
       "    }\n",
       "\n",
       "    .dataframe thead th {\n",
       "        text-align: right;\n",
       "    }\n",
       "</style>\n",
       "<table border=\"1\" class=\"dataframe\">\n",
       "  <thead>\n",
       "    <tr style=\"text-align: right;\">\n",
       "      <th></th>\n",
       "      <th>community_account</th>\n",
       "      <th>community_connection</th>\n",
       "      <th>connected</th>\n",
       "      <th>dlls_allowed</th>\n",
       "      <th>trade_allowed</th>\n",
       "      <th>tradeapi_disabled</th>\n",
       "      <th>email_enabled</th>\n",
       "      <th>ftp_enabled</th>\n",
       "      <th>notifications_enabled</th>\n",
       "      <th>mqid</th>\n",
       "      <th>...</th>\n",
       "      <th>codepage</th>\n",
       "      <th>ping_last</th>\n",
       "      <th>community_balance</th>\n",
       "      <th>retransmission</th>\n",
       "      <th>company</th>\n",
       "      <th>name</th>\n",
       "      <th>language</th>\n",
       "      <th>path</th>\n",
       "      <th>data_path</th>\n",
       "      <th>commondata_path</th>\n",
       "    </tr>\n",
       "  </thead>\n",
       "  <tbody>\n",
       "    <tr>\n",
       "      <th>Set</th>\n",
       "      <td>False</td>\n",
       "      <td>False</td>\n",
       "      <td>True</td>\n",
       "      <td>True</td>\n",
       "      <td>True</td>\n",
       "      <td>False</td>\n",
       "      <td>False</td>\n",
       "      <td>False</td>\n",
       "      <td>False</td>\n",
       "      <td>False</td>\n",
       "      <td>...</td>\n",
       "      <td>1252</td>\n",
       "      <td>45809</td>\n",
       "      <td>0.0</td>\n",
       "      <td>0.0</td>\n",
       "      <td>Tradeslide Trading Tech Limited</td>\n",
       "      <td>Darwinex MetaTrader 5</td>\n",
       "      <td>Spanish</td>\n",
       "      <td>C:\\Program Files\\Darwinex MetaTrader 5</td>\n",
       "      <td>C:\\Users\\joalr\\AppData\\Roaming\\MetaQuotes\\Term...</td>\n",
       "      <td>C:\\Users\\joalr\\AppData\\Roaming\\MetaQuotes\\Term...</td>\n",
       "    </tr>\n",
       "  </tbody>\n",
       "</table>\n",
       "<p>1 rows × 22 columns</p>\n",
       "</div>"
      ],
      "text/plain": [
       "     community_account  community_connection  connected  dlls_allowed  \\\n",
       "Set              False                 False       True          True   \n",
       "\n",
       "     trade_allowed  tradeapi_disabled  email_enabled  ftp_enabled  \\\n",
       "Set           True              False          False        False   \n",
       "\n",
       "     notifications_enabled   mqid  ...  codepage  ping_last  \\\n",
       "Set                  False  False  ...      1252      45809   \n",
       "\n",
       "     community_balance  retransmission                          company  \\\n",
       "Set                0.0             0.0  Tradeslide Trading Tech Limited   \n",
       "\n",
       "                      name language                                    path  \\\n",
       "Set  Darwinex MetaTrader 5  Spanish  C:\\Program Files\\Darwinex MetaTrader 5   \n",
       "\n",
       "                                             data_path  \\\n",
       "Set  C:\\Users\\joalr\\AppData\\Roaming\\MetaQuotes\\Term...   \n",
       "\n",
       "                                       commondata_path  \n",
       "Set  C:\\Users\\joalr\\AppData\\Roaming\\MetaQuotes\\Term...  \n",
       "\n",
       "[1 rows x 22 columns]"
      ]
     },
     "execution_count": 245,
     "metadata": {},
     "output_type": "execute_result"
    }
   ],
   "source": [
    "# Imprimimos el datadrame.\n",
    "terminal_info_df"
   ]
  },
  {
   "cell_type": "markdown",
   "metadata": {},
   "source": [
    "# Informacion de la cuenta"
   ]
  },
  {
   "cell_type": "code",
   "execution_count": 246,
   "metadata": {},
   "outputs": [
    {
     "data": {
      "text/plain": [
       "100000.0"
      ]
     },
     "execution_count": 246,
     "metadata": {},
     "output_type": "execute_result"
    }
   ],
   "source": [
    "# Aqui almacenamos la informacion de la cuenta, en un diccionario.\n",
    "account_info_dict = mt5.account_info()._asdict()\n",
    "\n",
    "# Asi al momento de necesitar saber algun dato especifico lo tendremos ordenado y segmentado.\n",
    "account_info_dict['profit']\n",
    "account_info_dict['balance']\n"
   ]
  },
  {
   "cell_type": "markdown",
   "metadata": {},
   "source": [
    "# Recuperacion de datos: Symbols"
   ]
  },
  {
   "cell_type": "code",
   "execution_count": 247,
   "metadata": {},
   "outputs": [
    {
     "data": {
      "text/plain": [
       "140"
      ]
     },
     "execution_count": 247,
     "metadata": {},
     "output_type": "execute_result"
    }
   ],
   "source": [
    "# Para ver la cantidad de simbolos.\n",
    "mt5.symbols_total()"
   ]
  },
  {
   "cell_type": "code",
   "execution_count": 248,
   "metadata": {},
   "outputs": [],
   "source": [
    "# Para filtrar simbolos.\n",
    "mt5.symbols_get() # Devolvera todos los simbolos en una lista fea de leer.\n",
    "mt5.symbols_get('*EUR*') # Devolvera todos los simbolos relacionados con el ACTIVO SELECCIONADO en una lista fea de leer.\n",
    "symbols = mt5.symbols_get('*EUR*') # Los metemos en una variable."
   ]
  },
  {
   "cell_type": "code",
   "execution_count": 249,
   "metadata": {},
   "outputs": [
    {
     "name": "stdout",
     "output_type": "stream",
     "text": [
      "EURUSD\n",
      "EURAUD\n",
      "EURCAD\n",
      "EURCHF\n",
      "EURCZK\n",
      "EURDKK\n",
      "EURGBP\n",
      "EURHKD\n",
      "EURHUF\n",
      "EURJPY\n",
      "EURNOK\n",
      "EURNZD\n",
      "EURPLN\n",
      "EURRUR\n",
      "EURRUB\n",
      "EURSEK\n",
      "EURTRY\n",
      "EURZAR\n",
      "XAUEUR\n",
      "XAGEUR\n",
      "EURMXN\n",
      "EURSGD\n",
      "EURILS\n",
      "EURCNH\n"
     ]
    }
   ],
   "source": [
    "# Con un bucle for recorremos solo los nombres, es mucho mejor para el ojo.\n",
    "for symbol in symbols:\n",
    "    print(symbol.name)"
   ]
  },
  {
   "cell_type": "code",
   "execution_count": 250,
   "metadata": {},
   "outputs": [],
   "source": [
    "# Acceder a la informacion de un simbolo en concreto.\n",
    "mt5.symbol_info('EURUSD')\n",
    "eurusd = mt5.symbol_info('EURUSD')._asdict() # Lo metemos como un diccionario en una variable."
   ]
  },
  {
   "cell_type": "code",
   "execution_count": 251,
   "metadata": {},
   "outputs": [
    {
     "data": {
      "text/plain": [
       "5"
      ]
     },
     "execution_count": 251,
     "metadata": {},
     "output_type": "execute_result"
    }
   ],
   "source": [
    "# Igual que antes podemos acceder siempre a la informacion especifica del diccionario.\n",
    "eurusd['digits']"
   ]
  },
  {
   "cell_type": "code",
   "execution_count": 252,
   "metadata": {},
   "outputs": [],
   "source": [
    "# Lo metemos PLANAMENTE en una variable.\n",
    "eurjpy = mt5.symbol_info('EURJPY')"
   ]
  },
  {
   "cell_type": "code",
   "execution_count": 253,
   "metadata": {},
   "outputs": [
    {
     "data": {
      "text/plain": [
       "3"
      ]
     },
     "execution_count": 253,
     "metadata": {},
     "output_type": "execute_result"
    }
   ],
   "source": [
    "# De esta forma tambien podriamos acceder, atravez de la nomenclatura del punto.\n",
    "eurjpy.digits"
   ]
  },
  {
   "cell_type": "markdown",
   "metadata": {},
   "source": [
    "##### Agregar al Market Watch"
   ]
  },
  {
   "cell_type": "code",
   "execution_count": 254,
   "metadata": {},
   "outputs": [
    {
     "name": "stdout",
     "output_type": "stream",
     "text": [
      "El simbolo ha sido agregado.\n"
     ]
    }
   ],
   "source": [
    "#Agregamos un simbolo al market watch, que creo, sera necesario para poder operarlo desde python.\n",
    "if (mt5.symbol_select('EURUSD',True)):\n",
    "    print('El simbolo ha sido agregado.')\n",
    "else:\n",
    "    print(f'Error al agregar el simbolo: {mt5.last_error()}')"
   ]
  },
  {
   "cell_type": "markdown",
   "metadata": {},
   "source": [
    "##### InfoTICK sobre un activo."
   ]
  },
  {
   "cell_type": "code",
   "execution_count": 255,
   "metadata": {},
   "outputs": [
    {
     "data": {
      "text/plain": [
       "1.07837"
      ]
     },
     "execution_count": 255,
     "metadata": {},
     "output_type": "execute_result"
    }
   ],
   "source": [
    "#Pedimos informacion sobre el ultimo tick de un activo x.\n",
    "symbol_info = mt5.symbol_info_tick('EURUSD')\n",
    "symbol_info.ask"
   ]
  },
  {
   "cell_type": "code",
   "execution_count": 256,
   "metadata": {},
   "outputs": [
    {
     "data": {
      "text/plain": [
       "{'time': 1722541827,\n",
       " 'bid': 1.07836,\n",
       " 'ask': 1.07837,\n",
       " 'last': 0.0,\n",
       " 'volume': 0,\n",
       " 'time_msc': 1722541827686,\n",
       " 'flags': 1028,\n",
       " 'volume_real': 0.0}"
      ]
     },
     "execution_count": 256,
     "metadata": {},
     "output_type": "execute_result"
    }
   ],
   "source": [
    "mt5.symbol_info_tick('EURUSD')._asdict()"
   ]
  },
  {
   "cell_type": "markdown",
   "metadata": {},
   "source": [
    "# Adquisicion de datos OHLC\n",
    " \n",
    "###### Importaremos datos de calidad con formato OHLC que es como estamos acostumbrados a verlos. Veremos la importancia de trabajar con las zonas horarias correctas."
   ]
  },
  {
   "cell_type": "code",
   "execution_count": 257,
   "metadata": {},
   "outputs": [],
   "source": [
    "\n",
    "from datetime import datetime\n",
    "import pytz"
   ]
  },
  {
   "cell_type": "code",
   "execution_count": 258,
   "metadata": {},
   "outputs": [
    {
     "data": {
      "text/plain": [
       "datetime.datetime(2023, 7, 27, 15, 0)"
      ]
     },
     "execution_count": 258,
     "metadata": {},
     "output_type": "execute_result"
    }
   ],
   "source": [
    "symbol = 'EURNOK'\n",
    "timeframe = mt5.TIMEFRAME_H1\n",
    "\n",
    "# Recuperamos datos desde una fecha determinada\n",
    "date = datetime.strptime('2023-07-27 15:00:00', '%Y-%m-%d %H:%M:%S')\n",
    "date"
   ]
  },
  {
   "cell_type": "code",
   "execution_count": 259,
   "metadata": {},
   "outputs": [],
   "source": [
    "# NO LO USAREMOS.\n",
    "# Convertir mi zona horaria a UTC\n",
    "# date.astimezone(pytz.utc)\n",
    "# Esto para calcular la hora que le he dado a la hora que corresponde en UTC (ES UN DOLOR DE CABEZA)"
   ]
  },
  {
   "cell_type": "code",
   "execution_count": 260,
   "metadata": {},
   "outputs": [],
   "source": [
    "# Indicar que mi zona horaria ya esta en UTC\n",
    "date.replace(tzinfo=pytz.utc)\n",
    "date = date.replace(tzinfo=pytz.utc)\n",
    "# De esta forma directamente le indicaremos la hora en UTC, es decir no tenemos que calcular los cambios de horario."
   ]
  },
  {
   "cell_type": "code",
   "execution_count": 261,
   "metadata": {},
   "outputs": [],
   "source": [
    "# Llamamos 10 datos de tiempo desde la fecha y hora establecida. (Por eso el 10, al final)\n",
    "raw_ohlc_data = mt5.copy_rates_from(symbol, timeframe, date, 10)\n",
    "# Lo metemos en un DF\n",
    "df = pd.DataFrame(raw_ohlc_data)\n",
    "# Y pasamos finalmente la columna time del DF a formato datetime, indicando que la unidad es de segundos.\n",
    "df['time'] = pd.to_datetime(df['time'], unit='s')\n",
    "df.set_index('time', inplace=True)"
   ]
  },
  {
   "cell_type": "code",
   "execution_count": 262,
   "metadata": {},
   "outputs": [
    {
     "data": {
      "text/html": [
       "<div>\n",
       "<style scoped>\n",
       "    .dataframe tbody tr th:only-of-type {\n",
       "        vertical-align: middle;\n",
       "    }\n",
       "\n",
       "    .dataframe tbody tr th {\n",
       "        vertical-align: top;\n",
       "    }\n",
       "\n",
       "    .dataframe thead th {\n",
       "        text-align: right;\n",
       "    }\n",
       "</style>\n",
       "<table border=\"1\" class=\"dataframe\">\n",
       "  <thead>\n",
       "    <tr style=\"text-align: right;\">\n",
       "      <th></th>\n",
       "      <th>open</th>\n",
       "      <th>high</th>\n",
       "      <th>low</th>\n",
       "      <th>close</th>\n",
       "      <th>tick_volume</th>\n",
       "      <th>spread</th>\n",
       "      <th>real_volume</th>\n",
       "    </tr>\n",
       "    <tr>\n",
       "      <th>time</th>\n",
       "      <th></th>\n",
       "      <th></th>\n",
       "      <th></th>\n",
       "      <th></th>\n",
       "      <th></th>\n",
       "      <th></th>\n",
       "      <th></th>\n",
       "    </tr>\n",
       "  </thead>\n",
       "  <tbody>\n",
       "    <tr>\n",
       "      <th>2023-07-27 06:00:00</th>\n",
       "      <td>11.17320</td>\n",
       "      <td>11.17430</td>\n",
       "      <td>11.16679</td>\n",
       "      <td>11.16680</td>\n",
       "      <td>678</td>\n",
       "      <td>102</td>\n",
       "      <td>0</td>\n",
       "    </tr>\n",
       "    <tr>\n",
       "      <th>2023-07-27 07:00:00</th>\n",
       "      <td>11.16650</td>\n",
       "      <td>11.16810</td>\n",
       "      <td>11.16253</td>\n",
       "      <td>11.16719</td>\n",
       "      <td>1128</td>\n",
       "      <td>102</td>\n",
       "      <td>0</td>\n",
       "    </tr>\n",
       "    <tr>\n",
       "      <th>2023-07-27 08:00:00</th>\n",
       "      <td>11.16739</td>\n",
       "      <td>11.18670</td>\n",
       "      <td>11.16457</td>\n",
       "      <td>11.17829</td>\n",
       "      <td>2507</td>\n",
       "      <td>102</td>\n",
       "      <td>0</td>\n",
       "    </tr>\n",
       "    <tr>\n",
       "      <th>2023-07-27 09:00:00</th>\n",
       "      <td>11.17989</td>\n",
       "      <td>11.19951</td>\n",
       "      <td>11.17759</td>\n",
       "      <td>11.19951</td>\n",
       "      <td>3280</td>\n",
       "      <td>102</td>\n",
       "      <td>0</td>\n",
       "    </tr>\n",
       "    <tr>\n",
       "      <th>2023-07-27 10:00:00</th>\n",
       "      <td>11.19759</td>\n",
       "      <td>11.19945</td>\n",
       "      <td>11.14200</td>\n",
       "      <td>11.14894</td>\n",
       "      <td>1787</td>\n",
       "      <td>102</td>\n",
       "      <td>0</td>\n",
       "    </tr>\n",
       "    <tr>\n",
       "      <th>2023-07-27 11:00:00</th>\n",
       "      <td>11.14869</td>\n",
       "      <td>11.16669</td>\n",
       "      <td>11.13309</td>\n",
       "      <td>11.14469</td>\n",
       "      <td>2076</td>\n",
       "      <td>102</td>\n",
       "      <td>0</td>\n",
       "    </tr>\n",
       "    <tr>\n",
       "      <th>2023-07-27 12:00:00</th>\n",
       "      <td>11.14454</td>\n",
       "      <td>11.17724</td>\n",
       "      <td>11.13354</td>\n",
       "      <td>11.17424</td>\n",
       "      <td>2273</td>\n",
       "      <td>102</td>\n",
       "      <td>0</td>\n",
       "    </tr>\n",
       "    <tr>\n",
       "      <th>2023-07-27 13:00:00</th>\n",
       "      <td>11.17429</td>\n",
       "      <td>11.19354</td>\n",
       "      <td>11.15510</td>\n",
       "      <td>11.16639</td>\n",
       "      <td>2072</td>\n",
       "      <td>102</td>\n",
       "      <td>0</td>\n",
       "    </tr>\n",
       "    <tr>\n",
       "      <th>2023-07-27 14:00:00</th>\n",
       "      <td>11.16634</td>\n",
       "      <td>11.17171</td>\n",
       "      <td>11.11764</td>\n",
       "      <td>11.12069</td>\n",
       "      <td>2189</td>\n",
       "      <td>102</td>\n",
       "      <td>0</td>\n",
       "    </tr>\n",
       "    <tr>\n",
       "      <th>2023-07-27 15:00:00</th>\n",
       "      <td>11.12064</td>\n",
       "      <td>11.16282</td>\n",
       "      <td>11.11406</td>\n",
       "      <td>11.14978</td>\n",
       "      <td>2671</td>\n",
       "      <td>102</td>\n",
       "      <td>0</td>\n",
       "    </tr>\n",
       "  </tbody>\n",
       "</table>\n",
       "</div>"
      ],
      "text/plain": [
       "                         open      high       low     close  tick_volume  \\\n",
       "time                                                                       \n",
       "2023-07-27 06:00:00  11.17320  11.17430  11.16679  11.16680          678   \n",
       "2023-07-27 07:00:00  11.16650  11.16810  11.16253  11.16719         1128   \n",
       "2023-07-27 08:00:00  11.16739  11.18670  11.16457  11.17829         2507   \n",
       "2023-07-27 09:00:00  11.17989  11.19951  11.17759  11.19951         3280   \n",
       "2023-07-27 10:00:00  11.19759  11.19945  11.14200  11.14894         1787   \n",
       "2023-07-27 11:00:00  11.14869  11.16669  11.13309  11.14469         2076   \n",
       "2023-07-27 12:00:00  11.14454  11.17724  11.13354  11.17424         2273   \n",
       "2023-07-27 13:00:00  11.17429  11.19354  11.15510  11.16639         2072   \n",
       "2023-07-27 14:00:00  11.16634  11.17171  11.11764  11.12069         2189   \n",
       "2023-07-27 15:00:00  11.12064  11.16282  11.11406  11.14978         2671   \n",
       "\n",
       "                     spread  real_volume  \n",
       "time                                      \n",
       "2023-07-27 06:00:00     102            0  \n",
       "2023-07-27 07:00:00     102            0  \n",
       "2023-07-27 08:00:00     102            0  \n",
       "2023-07-27 09:00:00     102            0  \n",
       "2023-07-27 10:00:00     102            0  \n",
       "2023-07-27 11:00:00     102            0  \n",
       "2023-07-27 12:00:00     102            0  \n",
       "2023-07-27 13:00:00     102            0  \n",
       "2023-07-27 14:00:00     102            0  \n",
       "2023-07-27 15:00:00     102            0  "
      ]
     },
     "execution_count": 262,
     "metadata": {},
     "output_type": "execute_result"
    }
   ],
   "source": [
    "df"
   ]
  },
  {
   "cell_type": "code",
   "execution_count": 263,
   "metadata": {},
   "outputs": [],
   "source": [
    "# Llamamos 10 datos de tiempo desde la ultima vela, hacia el numero de velas anterior que le digamos.\n",
    "raw_ohlc_data = mt5.copy_rates_from_pos(symbol, timeframe, 1, 10)\n",
    "# Lo metemos en un DF\n",
    "df = pd.DataFrame(raw_ohlc_data)\n",
    "# Y pasamos finalmente la columna time del DF a formato datetime, indicando que la unidad es de segundos.\n",
    "df['time'] = pd.to_datetime(df['time'], unit='s')\n",
    "df.set_index('time', inplace=True)\n",
    "\n",
    "\n",
    "# Tener en cuenta que los datos van a estar en la timezone Asia/Nicosia y en DST de US."
   ]
  },
  {
   "cell_type": "code",
   "execution_count": 264,
   "metadata": {},
   "outputs": [
    {
     "data": {
      "text/html": [
       "<div>\n",
       "<style scoped>\n",
       "    .dataframe tbody tr th:only-of-type {\n",
       "        vertical-align: middle;\n",
       "    }\n",
       "\n",
       "    .dataframe tbody tr th {\n",
       "        vertical-align: top;\n",
       "    }\n",
       "\n",
       "    .dataframe thead th {\n",
       "        text-align: right;\n",
       "    }\n",
       "</style>\n",
       "<table border=\"1\" class=\"dataframe\">\n",
       "  <thead>\n",
       "    <tr style=\"text-align: right;\">\n",
       "      <th></th>\n",
       "      <th>open</th>\n",
       "      <th>high</th>\n",
       "      <th>low</th>\n",
       "      <th>close</th>\n",
       "      <th>tick_volume</th>\n",
       "      <th>spread</th>\n",
       "      <th>real_volume</th>\n",
       "    </tr>\n",
       "    <tr>\n",
       "      <th>time</th>\n",
       "      <th></th>\n",
       "      <th></th>\n",
       "      <th></th>\n",
       "      <th></th>\n",
       "      <th></th>\n",
       "      <th></th>\n",
       "      <th></th>\n",
       "    </tr>\n",
       "  </thead>\n",
       "  <tbody>\n",
       "    <tr>\n",
       "      <th>2024-08-01 09:00:00</th>\n",
       "      <td>11.80558</td>\n",
       "      <td>11.80831</td>\n",
       "      <td>11.78126</td>\n",
       "      <td>11.79485</td>\n",
       "      <td>3142</td>\n",
       "      <td>282</td>\n",
       "      <td>0</td>\n",
       "    </tr>\n",
       "    <tr>\n",
       "      <th>2024-08-01 10:00:00</th>\n",
       "      <td>11.79463</td>\n",
       "      <td>11.79487</td>\n",
       "      <td>11.74969</td>\n",
       "      <td>11.76876</td>\n",
       "      <td>3589</td>\n",
       "      <td>282</td>\n",
       "      <td>0</td>\n",
       "    </tr>\n",
       "    <tr>\n",
       "      <th>2024-08-01 11:00:00</th>\n",
       "      <td>11.76670</td>\n",
       "      <td>11.76940</td>\n",
       "      <td>11.74440</td>\n",
       "      <td>11.75081</td>\n",
       "      <td>3202</td>\n",
       "      <td>282</td>\n",
       "      <td>0</td>\n",
       "    </tr>\n",
       "    <tr>\n",
       "      <th>2024-08-01 12:00:00</th>\n",
       "      <td>11.75077</td>\n",
       "      <td>11.75409</td>\n",
       "      <td>11.72443</td>\n",
       "      <td>11.74893</td>\n",
       "      <td>2631</td>\n",
       "      <td>185</td>\n",
       "      <td>0</td>\n",
       "    </tr>\n",
       "    <tr>\n",
       "      <th>2024-08-01 13:00:00</th>\n",
       "      <td>11.74911</td>\n",
       "      <td>11.76617</td>\n",
       "      <td>11.73710</td>\n",
       "      <td>11.73740</td>\n",
       "      <td>2572</td>\n",
       "      <td>282</td>\n",
       "      <td>0</td>\n",
       "    </tr>\n",
       "    <tr>\n",
       "      <th>2024-08-01 14:00:00</th>\n",
       "      <td>11.73739</td>\n",
       "      <td>11.76721</td>\n",
       "      <td>11.73724</td>\n",
       "      <td>11.75099</td>\n",
       "      <td>2877</td>\n",
       "      <td>282</td>\n",
       "      <td>0</td>\n",
       "    </tr>\n",
       "    <tr>\n",
       "      <th>2024-08-01 15:00:00</th>\n",
       "      <td>11.75101</td>\n",
       "      <td>11.75494</td>\n",
       "      <td>11.72764</td>\n",
       "      <td>11.74085</td>\n",
       "      <td>3338</td>\n",
       "      <td>103</td>\n",
       "      <td>0</td>\n",
       "    </tr>\n",
       "    <tr>\n",
       "      <th>2024-08-01 16:00:00</th>\n",
       "      <td>11.74060</td>\n",
       "      <td>11.75281</td>\n",
       "      <td>11.73159</td>\n",
       "      <td>11.73914</td>\n",
       "      <td>3334</td>\n",
       "      <td>282</td>\n",
       "      <td>0</td>\n",
       "    </tr>\n",
       "    <tr>\n",
       "      <th>2024-08-01 17:00:00</th>\n",
       "      <td>11.73787</td>\n",
       "      <td>11.78174</td>\n",
       "      <td>11.73572</td>\n",
       "      <td>11.75184</td>\n",
       "      <td>4622</td>\n",
       "      <td>282</td>\n",
       "      <td>0</td>\n",
       "    </tr>\n",
       "    <tr>\n",
       "      <th>2024-08-01 18:00:00</th>\n",
       "      <td>11.75190</td>\n",
       "      <td>11.78116</td>\n",
       "      <td>11.75055</td>\n",
       "      <td>11.77424</td>\n",
       "      <td>4354</td>\n",
       "      <td>282</td>\n",
       "      <td>0</td>\n",
       "    </tr>\n",
       "  </tbody>\n",
       "</table>\n",
       "</div>"
      ],
      "text/plain": [
       "                         open      high       low     close  tick_volume  \\\n",
       "time                                                                       \n",
       "2024-08-01 09:00:00  11.80558  11.80831  11.78126  11.79485         3142   \n",
       "2024-08-01 10:00:00  11.79463  11.79487  11.74969  11.76876         3589   \n",
       "2024-08-01 11:00:00  11.76670  11.76940  11.74440  11.75081         3202   \n",
       "2024-08-01 12:00:00  11.75077  11.75409  11.72443  11.74893         2631   \n",
       "2024-08-01 13:00:00  11.74911  11.76617  11.73710  11.73740         2572   \n",
       "2024-08-01 14:00:00  11.73739  11.76721  11.73724  11.75099         2877   \n",
       "2024-08-01 15:00:00  11.75101  11.75494  11.72764  11.74085         3338   \n",
       "2024-08-01 16:00:00  11.74060  11.75281  11.73159  11.73914         3334   \n",
       "2024-08-01 17:00:00  11.73787  11.78174  11.73572  11.75184         4622   \n",
       "2024-08-01 18:00:00  11.75190  11.78116  11.75055  11.77424         4354   \n",
       "\n",
       "                     spread  real_volume  \n",
       "time                                      \n",
       "2024-08-01 09:00:00     282            0  \n",
       "2024-08-01 10:00:00     282            0  \n",
       "2024-08-01 11:00:00     282            0  \n",
       "2024-08-01 12:00:00     185            0  \n",
       "2024-08-01 13:00:00     282            0  \n",
       "2024-08-01 14:00:00     282            0  \n",
       "2024-08-01 15:00:00     103            0  \n",
       "2024-08-01 16:00:00     282            0  \n",
       "2024-08-01 17:00:00     282            0  \n",
       "2024-08-01 18:00:00     282            0  "
      ]
     },
     "execution_count": 264,
     "metadata": {},
     "output_type": "execute_result"
    }
   ],
   "source": [
    "df"
   ]
  },
  {
   "cell_type": "code",
   "execution_count": 265,
   "metadata": {},
   "outputs": [],
   "source": [
    "\n",
    "#Recuperar datos entre dos fechas\n",
    "\n",
    "date_ini = datetime.strptime('2023-07-13 15:00:00', '%Y-%m-%d %H:%M:%S').replace(tzinfo=pytz.utc)\n",
    "date_end = datetime.strptime('2023-07-17 15:00:00', '%Y-%m-%d %H:%M:%S').replace(tzinfo=pytz.utc)\n",
    "raw_ohlc_data = mt5.copy_rates_range(symbol, timeframe, date_ini, date_end)\n",
    "df = pd.DataFrame(raw_ohlc_data)\n",
    "df['time'] = pd.to_datetime(df['time'], unit='s')\n",
    "df.set_index('time', inplace=True)\n"
   ]
  },
  {
   "cell_type": "code",
   "execution_count": 266,
   "metadata": {},
   "outputs": [
    {
     "data": {
      "text/html": [
       "<div>\n",
       "<style scoped>\n",
       "    .dataframe tbody tr th:only-of-type {\n",
       "        vertical-align: middle;\n",
       "    }\n",
       "\n",
       "    .dataframe tbody tr th {\n",
       "        vertical-align: top;\n",
       "    }\n",
       "\n",
       "    .dataframe thead th {\n",
       "        text-align: right;\n",
       "    }\n",
       "</style>\n",
       "<table border=\"1\" class=\"dataframe\">\n",
       "  <thead>\n",
       "    <tr style=\"text-align: right;\">\n",
       "      <th></th>\n",
       "      <th>open</th>\n",
       "      <th>high</th>\n",
       "      <th>low</th>\n",
       "      <th>close</th>\n",
       "      <th>tick_volume</th>\n",
       "      <th>spread</th>\n",
       "      <th>real_volume</th>\n",
       "    </tr>\n",
       "    <tr>\n",
       "      <th>time</th>\n",
       "      <th></th>\n",
       "      <th></th>\n",
       "      <th></th>\n",
       "      <th></th>\n",
       "      <th></th>\n",
       "      <th></th>\n",
       "      <th></th>\n",
       "    </tr>\n",
       "  </thead>\n",
       "  <tbody>\n",
       "    <tr>\n",
       "      <th>2023-07-17 11:00:00</th>\n",
       "      <td>11.24809</td>\n",
       "      <td>11.29360</td>\n",
       "      <td>11.24781</td>\n",
       "      <td>11.29130</td>\n",
       "      <td>2391</td>\n",
       "      <td>102</td>\n",
       "      <td>0</td>\n",
       "    </tr>\n",
       "    <tr>\n",
       "      <th>2023-07-17 12:00:00</th>\n",
       "      <td>11.29140</td>\n",
       "      <td>11.31569</td>\n",
       "      <td>11.25354</td>\n",
       "      <td>11.29189</td>\n",
       "      <td>2347</td>\n",
       "      <td>102</td>\n",
       "      <td>0</td>\n",
       "    </tr>\n",
       "    <tr>\n",
       "      <th>2023-07-17 13:00:00</th>\n",
       "      <td>11.29185</td>\n",
       "      <td>11.29630</td>\n",
       "      <td>11.26695</td>\n",
       "      <td>11.27417</td>\n",
       "      <td>1986</td>\n",
       "      <td>102</td>\n",
       "      <td>0</td>\n",
       "    </tr>\n",
       "    <tr>\n",
       "      <th>2023-07-17 14:00:00</th>\n",
       "      <td>11.27410</td>\n",
       "      <td>11.27435</td>\n",
       "      <td>11.24279</td>\n",
       "      <td>11.24324</td>\n",
       "      <td>1810</td>\n",
       "      <td>102</td>\n",
       "      <td>0</td>\n",
       "    </tr>\n",
       "    <tr>\n",
       "      <th>2023-07-17 15:00:00</th>\n",
       "      <td>11.24324</td>\n",
       "      <td>11.26760</td>\n",
       "      <td>11.23560</td>\n",
       "      <td>11.26760</td>\n",
       "      <td>2640</td>\n",
       "      <td>102</td>\n",
       "      <td>0</td>\n",
       "    </tr>\n",
       "  </tbody>\n",
       "</table>\n",
       "</div>"
      ],
      "text/plain": [
       "                         open      high       low     close  tick_volume  \\\n",
       "time                                                                       \n",
       "2023-07-17 11:00:00  11.24809  11.29360  11.24781  11.29130         2391   \n",
       "2023-07-17 12:00:00  11.29140  11.31569  11.25354  11.29189         2347   \n",
       "2023-07-17 13:00:00  11.29185  11.29630  11.26695  11.27417         1986   \n",
       "2023-07-17 14:00:00  11.27410  11.27435  11.24279  11.24324         1810   \n",
       "2023-07-17 15:00:00  11.24324  11.26760  11.23560  11.26760         2640   \n",
       "\n",
       "                     spread  real_volume  \n",
       "time                                      \n",
       "2023-07-17 11:00:00     102            0  \n",
       "2023-07-17 12:00:00     102            0  \n",
       "2023-07-17 13:00:00     102            0  \n",
       "2023-07-17 14:00:00     102            0  \n",
       "2023-07-17 15:00:00     102            0  "
      ]
     },
     "execution_count": 266,
     "metadata": {},
     "output_type": "execute_result"
    }
   ],
   "source": [
    "df.tail()"
   ]
  },
  {
   "cell_type": "markdown",
   "metadata": {},
   "source": [
    "# Adquisicion de datos en TICK"
   ]
  },
  {
   "cell_type": "code",
   "execution_count": 267,
   "metadata": {},
   "outputs": [],
   "source": [
    "symbol = 'EURUSD'\n",
    "\n",
    "# Para embellezer el codigo:\n",
    "formato = '%Y-%m-%d %H:%M:%S'\n",
    "\n",
    "# Definimos la fecha de inicio y de final\n",
    "date_ini = datetime.strptime('2023-07-13 15:00:00', formato).replace(tzinfo=pytz.utc)\n",
    "date_end = datetime.strptime('2023-07-17 15:00:00', formato).replace(tzinfo=pytz.utc)"
   ]
  },
  {
   "cell_type": "code",
   "execution_count": 268,
   "metadata": {},
   "outputs": [],
   "source": [
    "# Recogemos desde los proximos 5000 ticks desde la fecha de inicio indicada.\n",
    "df = pd.DataFrame(mt5.copy_ticks_from(symbol, date_ini, 5000, mt5.COPY_TICKS_ALL))\n",
    "df['time_msc'] = pd.to_datetime(df['time_msc'], unit='ms')\n",
    "df.set_index('time_msc', inplace=True)"
   ]
  },
  {
   "cell_type": "code",
   "execution_count": 269,
   "metadata": {},
   "outputs": [
    {
     "data": {
      "text/html": [
       "<div>\n",
       "<style scoped>\n",
       "    .dataframe tbody tr th:only-of-type {\n",
       "        vertical-align: middle;\n",
       "    }\n",
       "\n",
       "    .dataframe tbody tr th {\n",
       "        vertical-align: top;\n",
       "    }\n",
       "\n",
       "    .dataframe thead th {\n",
       "        text-align: right;\n",
       "    }\n",
       "</style>\n",
       "<table border=\"1\" class=\"dataframe\">\n",
       "  <thead>\n",
       "    <tr style=\"text-align: right;\">\n",
       "      <th></th>\n",
       "      <th>time</th>\n",
       "      <th>bid</th>\n",
       "      <th>ask</th>\n",
       "      <th>last</th>\n",
       "      <th>volume</th>\n",
       "      <th>flags</th>\n",
       "      <th>volume_real</th>\n",
       "      <th>spread</th>\n",
       "    </tr>\n",
       "    <tr>\n",
       "      <th>time_msc</th>\n",
       "      <th></th>\n",
       "      <th></th>\n",
       "      <th></th>\n",
       "      <th></th>\n",
       "      <th></th>\n",
       "      <th></th>\n",
       "      <th></th>\n",
       "      <th></th>\n",
       "    </tr>\n",
       "  </thead>\n",
       "  <tbody>\n",
       "    <tr>\n",
       "      <th>2023-07-13 15:00:00.022</th>\n",
       "      <td>1689260400</td>\n",
       "      <td>1.11745</td>\n",
       "      <td>1.11745</td>\n",
       "      <td>0.0</td>\n",
       "      <td>0</td>\n",
       "      <td>134</td>\n",
       "      <td>0.0</td>\n",
       "      <td>0.0</td>\n",
       "    </tr>\n",
       "    <tr>\n",
       "      <th>2023-07-13 15:00:00.223</th>\n",
       "      <td>1689260400</td>\n",
       "      <td>1.11746</td>\n",
       "      <td>1.11746</td>\n",
       "      <td>0.0</td>\n",
       "      <td>0</td>\n",
       "      <td>134</td>\n",
       "      <td>0.0</td>\n",
       "      <td>0.0</td>\n",
       "    </tr>\n",
       "    <tr>\n",
       "      <th>2023-07-13 15:00:00.571</th>\n",
       "      <td>1689260400</td>\n",
       "      <td>1.11748</td>\n",
       "      <td>1.11748</td>\n",
       "      <td>0.0</td>\n",
       "      <td>0</td>\n",
       "      <td>134</td>\n",
       "      <td>0.0</td>\n",
       "      <td>0.0</td>\n",
       "    </tr>\n",
       "    <tr>\n",
       "      <th>2023-07-13 15:00:00.667</th>\n",
       "      <td>1689260400</td>\n",
       "      <td>1.11749</td>\n",
       "      <td>1.11749</td>\n",
       "      <td>0.0</td>\n",
       "      <td>0</td>\n",
       "      <td>134</td>\n",
       "      <td>0.0</td>\n",
       "      <td>0.0</td>\n",
       "    </tr>\n",
       "    <tr>\n",
       "      <th>2023-07-13 15:00:00.741</th>\n",
       "      <td>1689260400</td>\n",
       "      <td>1.11750</td>\n",
       "      <td>1.11750</td>\n",
       "      <td>0.0</td>\n",
       "      <td>0</td>\n",
       "      <td>134</td>\n",
       "      <td>0.0</td>\n",
       "      <td>0.0</td>\n",
       "    </tr>\n",
       "  </tbody>\n",
       "</table>\n",
       "</div>"
      ],
      "text/plain": [
       "                               time      bid      ask  last  volume  flags  \\\n",
       "time_msc                                                                     \n",
       "2023-07-13 15:00:00.022  1689260400  1.11745  1.11745   0.0       0    134   \n",
       "2023-07-13 15:00:00.223  1689260400  1.11746  1.11746   0.0       0    134   \n",
       "2023-07-13 15:00:00.571  1689260400  1.11748  1.11748   0.0       0    134   \n",
       "2023-07-13 15:00:00.667  1689260400  1.11749  1.11749   0.0       0    134   \n",
       "2023-07-13 15:00:00.741  1689260400  1.11750  1.11750   0.0       0    134   \n",
       "\n",
       "                         volume_real  spread  \n",
       "time_msc                                      \n",
       "2023-07-13 15:00:00.022          0.0     0.0  \n",
       "2023-07-13 15:00:00.223          0.0     0.0  \n",
       "2023-07-13 15:00:00.571          0.0     0.0  \n",
       "2023-07-13 15:00:00.667          0.0     0.0  \n",
       "2023-07-13 15:00:00.741          0.0     0.0  "
      ]
     },
     "execution_count": 269,
     "metadata": {},
     "output_type": "execute_result"
    }
   ],
   "source": [
    "df['spread'] = df['ask'] - df['bid']\n",
    "df.head()"
   ]
  },
  {
   "cell_type": "code",
   "execution_count": 270,
   "metadata": {},
   "outputs": [],
   "source": [
    "df_2 = pd.DataFrame(mt5.copy_ticks_range(symbol, date_ini, date_end, mt5.COPY_TICKS_ALL))\n",
    "df_2['time_msc'] = pd.to_datetime(df_2['time_msc'], unit='ms')\n",
    "df_2.set_index('time_msc', inplace=True)"
   ]
  },
  {
   "cell_type": "code",
   "execution_count": 271,
   "metadata": {},
   "outputs": [
    {
     "data": {
      "text/html": [
       "<div>\n",
       "<style scoped>\n",
       "    .dataframe tbody tr th:only-of-type {\n",
       "        vertical-align: middle;\n",
       "    }\n",
       "\n",
       "    .dataframe tbody tr th {\n",
       "        vertical-align: top;\n",
       "    }\n",
       "\n",
       "    .dataframe thead th {\n",
       "        text-align: right;\n",
       "    }\n",
       "</style>\n",
       "<table border=\"1\" class=\"dataframe\">\n",
       "  <thead>\n",
       "    <tr style=\"text-align: right;\">\n",
       "      <th></th>\n",
       "      <th>time</th>\n",
       "      <th>bid</th>\n",
       "      <th>ask</th>\n",
       "      <th>last</th>\n",
       "      <th>volume</th>\n",
       "      <th>flags</th>\n",
       "      <th>volume_real</th>\n",
       "    </tr>\n",
       "    <tr>\n",
       "      <th>time_msc</th>\n",
       "      <th></th>\n",
       "      <th></th>\n",
       "      <th></th>\n",
       "      <th></th>\n",
       "      <th></th>\n",
       "      <th></th>\n",
       "      <th></th>\n",
       "    </tr>\n",
       "  </thead>\n",
       "  <tbody>\n",
       "    <tr>\n",
       "      <th>2023-07-13 15:00:00.022</th>\n",
       "      <td>1689260400</td>\n",
       "      <td>1.11745</td>\n",
       "      <td>1.11745</td>\n",
       "      <td>0.0</td>\n",
       "      <td>0</td>\n",
       "      <td>134</td>\n",
       "      <td>0.0</td>\n",
       "    </tr>\n",
       "    <tr>\n",
       "      <th>2023-07-13 15:00:00.223</th>\n",
       "      <td>1689260400</td>\n",
       "      <td>1.11746</td>\n",
       "      <td>1.11746</td>\n",
       "      <td>0.0</td>\n",
       "      <td>0</td>\n",
       "      <td>134</td>\n",
       "      <td>0.0</td>\n",
       "    </tr>\n",
       "    <tr>\n",
       "      <th>2023-07-13 15:00:00.571</th>\n",
       "      <td>1689260400</td>\n",
       "      <td>1.11748</td>\n",
       "      <td>1.11748</td>\n",
       "      <td>0.0</td>\n",
       "      <td>0</td>\n",
       "      <td>134</td>\n",
       "      <td>0.0</td>\n",
       "    </tr>\n",
       "    <tr>\n",
       "      <th>2023-07-13 15:00:00.667</th>\n",
       "      <td>1689260400</td>\n",
       "      <td>1.11749</td>\n",
       "      <td>1.11749</td>\n",
       "      <td>0.0</td>\n",
       "      <td>0</td>\n",
       "      <td>134</td>\n",
       "      <td>0.0</td>\n",
       "    </tr>\n",
       "    <tr>\n",
       "      <th>2023-07-13 15:00:00.741</th>\n",
       "      <td>1689260400</td>\n",
       "      <td>1.11750</td>\n",
       "      <td>1.11750</td>\n",
       "      <td>0.0</td>\n",
       "      <td>0</td>\n",
       "      <td>134</td>\n",
       "      <td>0.0</td>\n",
       "    </tr>\n",
       "    <tr>\n",
       "      <th>...</th>\n",
       "      <td>...</td>\n",
       "      <td>...</td>\n",
       "      <td>...</td>\n",
       "      <td>...</td>\n",
       "      <td>...</td>\n",
       "      <td>...</td>\n",
       "      <td>...</td>\n",
       "    </tr>\n",
       "    <tr>\n",
       "      <th>2023-07-17 14:59:57.576</th>\n",
       "      <td>1689605997</td>\n",
       "      <td>1.12342</td>\n",
       "      <td>1.12342</td>\n",
       "      <td>0.0</td>\n",
       "      <td>0</td>\n",
       "      <td>134</td>\n",
       "      <td>0.0</td>\n",
       "    </tr>\n",
       "    <tr>\n",
       "      <th>2023-07-17 14:59:59.209</th>\n",
       "      <td>1689605999</td>\n",
       "      <td>1.12341</td>\n",
       "      <td>1.12341</td>\n",
       "      <td>0.0</td>\n",
       "      <td>0</td>\n",
       "      <td>134</td>\n",
       "      <td>0.0</td>\n",
       "    </tr>\n",
       "    <tr>\n",
       "      <th>2023-07-17 14:59:59.229</th>\n",
       "      <td>1689605999</td>\n",
       "      <td>1.12342</td>\n",
       "      <td>1.12342</td>\n",
       "      <td>0.0</td>\n",
       "      <td>0</td>\n",
       "      <td>134</td>\n",
       "      <td>0.0</td>\n",
       "    </tr>\n",
       "    <tr>\n",
       "      <th>2023-07-17 14:59:59.787</th>\n",
       "      <td>1689605999</td>\n",
       "      <td>1.12341</td>\n",
       "      <td>1.12341</td>\n",
       "      <td>0.0</td>\n",
       "      <td>0</td>\n",
       "      <td>134</td>\n",
       "      <td>0.0</td>\n",
       "    </tr>\n",
       "    <tr>\n",
       "      <th>2023-07-17 14:59:59.983</th>\n",
       "      <td>1689605999</td>\n",
       "      <td>1.12339</td>\n",
       "      <td>1.12339</td>\n",
       "      <td>0.0</td>\n",
       "      <td>0</td>\n",
       "      <td>134</td>\n",
       "      <td>0.0</td>\n",
       "    </tr>\n",
       "  </tbody>\n",
       "</table>\n",
       "<p>129651 rows × 7 columns</p>\n",
       "</div>"
      ],
      "text/plain": [
       "                               time      bid      ask  last  volume  flags  \\\n",
       "time_msc                                                                     \n",
       "2023-07-13 15:00:00.022  1689260400  1.11745  1.11745   0.0       0    134   \n",
       "2023-07-13 15:00:00.223  1689260400  1.11746  1.11746   0.0       0    134   \n",
       "2023-07-13 15:00:00.571  1689260400  1.11748  1.11748   0.0       0    134   \n",
       "2023-07-13 15:00:00.667  1689260400  1.11749  1.11749   0.0       0    134   \n",
       "2023-07-13 15:00:00.741  1689260400  1.11750  1.11750   0.0       0    134   \n",
       "...                             ...      ...      ...   ...     ...    ...   \n",
       "2023-07-17 14:59:57.576  1689605997  1.12342  1.12342   0.0       0    134   \n",
       "2023-07-17 14:59:59.209  1689605999  1.12341  1.12341   0.0       0    134   \n",
       "2023-07-17 14:59:59.229  1689605999  1.12342  1.12342   0.0       0    134   \n",
       "2023-07-17 14:59:59.787  1689605999  1.12341  1.12341   0.0       0    134   \n",
       "2023-07-17 14:59:59.983  1689605999  1.12339  1.12339   0.0       0    134   \n",
       "\n",
       "                         volume_real  \n",
       "time_msc                              \n",
       "2023-07-13 15:00:00.022          0.0  \n",
       "2023-07-13 15:00:00.223          0.0  \n",
       "2023-07-13 15:00:00.571          0.0  \n",
       "2023-07-13 15:00:00.667          0.0  \n",
       "2023-07-13 15:00:00.741          0.0  \n",
       "...                              ...  \n",
       "2023-07-17 14:59:57.576          0.0  \n",
       "2023-07-17 14:59:59.209          0.0  \n",
       "2023-07-17 14:59:59.229          0.0  \n",
       "2023-07-17 14:59:59.787          0.0  \n",
       "2023-07-17 14:59:59.983          0.0  \n",
       "\n",
       "[129651 rows x 7 columns]"
      ]
     },
     "execution_count": 271,
     "metadata": {},
     "output_type": "execute_result"
    }
   ],
   "source": [
    "df_2"
   ]
  },
  {
   "cell_type": "markdown",
   "metadata": {},
   "source": [
    "# Envio y Cierre de Ordenes"
   ]
  },
  {
   "cell_type": "code",
   "execution_count": 354,
   "metadata": {},
   "outputs": [
    {
     "name": "stdout",
     "output_type": "stream",
     "text": [
      "Símbolo añadido correctamente\n"
     ]
    }
   ],
   "source": [
    "# Primero, definimos el símbolo en el que queremos abrir nuestras operaciones\n",
    "symbol = 'USDSEK'\n",
    "\n",
    "# Y nos aseguramos de que dicho símbolo esté añadido al MarketWatch\n",
    "if mt5.symbol_select(symbol, True):\n",
    "    print(\"Símbolo añadido correctamente\")\n",
    "else:\n",
    "    print(f\"Ha ocurrido un error añadiendo el símbolo: {mt5.last_error()}\")"
   ]
  },
  {
   "cell_type": "code",
   "execution_count": 355,
   "metadata": {},
   "outputs": [],
   "source": [
    "# #Creacion del trade Request.\n",
    "# request = {\n",
    "#     'action': mt5.TRADE_ACTION_DEAL, #Enviamos una orden a mercado.\n",
    "#     'magic': 1010101010, #Magic number es el id de mi estrategia, debe tener 10 numeros. \n",
    "#     #'order'        : para manejar ordenes pendientes... NO ES EL CASO.\n",
    "#     'symbol': symbol,\n",
    "#     'volume': 1.25, #Un numero entero siempre positivo.\n",
    "#     #'price'        : Siendo una orden a mercado no necesitamos este valor.\n",
    "#     #'stoplimit'    : Siendo una orden a mercado no necesitamos este valor.\n",
    "#     'sl': 0.0, #StopLoss\n",
    "#     'tp': 0.0, #TakeProfit\n",
    "#     'deviation': 50,   #Slippage que estamos dispuestos a tolerar.\n",
    "#     'type': mt5.ORDER_TYPE_BUY, #Tipo de orden (Compra, venta, limits...)\n",
    "#     'type_filling': mt5.ORDER_FILLING_FOK, #Forma de relleno de la orden, ver mas a detalle, en este caso fill or kill.\n",
    "#     'type_time': mt5.ORDER_TIME_GTC, #Si queremos cerrarla con condicion de tiempo, en este caso Got till Cancel es para tenerla abierta hasta que la cerremos nosotros.\n",
    "#     'comment': \"Mi primera orden desde python.\"\n",
    "# } \n",
    "# request  \n",
    "\n",
    "# POR ALGUNA EXTRANIA RAZON NO SE EJECUTA BIEN CON LOS COMENTARIOS Y LAS TABULACIONES."
   ]
  },
  {
   "cell_type": "code",
   "execution_count": 361,
   "metadata": {},
   "outputs": [],
   "source": [
    "\n",
    "# Creamos el trade request necesario\n",
    "request = {\n",
    "    'action': mt5.TRADE_ACTION_DEAL,\n",
    "    'magic': 1010101010,\n",
    "    'symbol': symbol,\n",
    "    'volume': 1.25,\n",
    "    'sl': 10.73,\n",
    "    'tp': 10.75,\n",
    "    # 'price': mt5.symbol_info_tick(symbol).ask,\n",
    "    'deviation': 50,\n",
    "    'type': mt5.ORDER_TYPE_BUY,\n",
    "    'type_filling': mt5.ORDER_FILLING_FOK,\n",
    "    'type_time': mt5.ORDER_TIME_GTC,\n",
    "    'comment': \"Primera orden desde Python\"\n",
    "}"
   ]
  },
  {
   "cell_type": "code",
   "execution_count": 362,
   "metadata": {},
   "outputs": [
    {
     "name": "stdout",
     "output_type": "stream",
     "text": [
      "OrderSendResult(retcode=10009, deal=2678937740, order=2704612315, volume=1.25, price=10.7341, bid=0.0, ask=0.0, comment='Request executed', request_id=2965612118, retcode_external=0, request=TradeRequest(action=1, magic=1010101010, order=0, symbol='USDSEK', volume=1.25, price=0.0, stoplimit=0.0, sl=10.73, tp=10.75, deviation=50, type=0, type_filling=0, type_time=0, expiration=0, comment='Primera orden desde Python', position=0, position_by=0))\n",
      "La orden se ha ejecutado correctamente: OrderSendResult(retcode=10009, deal=2678937740, order=2704612315, volume=1.25, price=10.7341, bid=0.0, ask=0.0, comment='Request executed', request_id=2965612118, retcode_external=0, request=TradeRequest(action=1, magic=1010101010, order=0, symbol='USDSEK', volume=1.25, price=0.0, stoplimit=0.0, sl=10.73, tp=10.75, deviation=50, type=0, type_filling=0, type_time=0, expiration=0, comment='Primera orden desde Python', position=0, position_by=0))\n"
     ]
    }
   ],
   "source": [
    "# Y enviamos el request para poder ejecutar la orden\n",
    "order = mt5.order_send(request)\n",
    "print(order)\n",
    "\n",
    "if order.retcode == mt5.TRADE_RETCODE_DONE:\n",
    "    print(f\"La orden se ha ejecutado correctamente: {order}\")\n",
    "else:\n",
    "    print(f\"Ha ocurrido un error al ejecutar la orden: {mt5.last_error()}\")"
   ]
  },
  {
   "cell_type": "code",
   "execution_count": null,
   "metadata": {},
   "outputs": [],
   "source": []
  }
 ],
 "metadata": {
  "kernelspec": {
   "display_name": "mt5python",
   "language": "python",
   "name": "python3"
  },
  "language_info": {
   "codemirror_mode": {
    "name": "ipython",
    "version": 3
   },
   "file_extension": ".py",
   "mimetype": "text/x-python",
   "name": "python",
   "nbconvert_exporter": "python",
   "pygments_lexer": "ipython3",
   "version": "3.11.9"
  }
 },
 "nbformat": 4,
 "nbformat_minor": 2
}
